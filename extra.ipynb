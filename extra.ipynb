{
 "cells": [
  {
   "cell_type": "code",
   "execution_count": 2,
   "id": "dd4c5444-4d76-4a17-bbbc-503ba4aa4e98",
   "metadata": {},
   "outputs": [
    {
     "ename": "NameError",
     "evalue": "name 'TimeSeriesDataSet' is not defined",
     "output_type": "error",
     "traceback": [
      "\u001b[0;31m---------------------------------------------------------------------------\u001b[0m",
      "\u001b[0;31mNameError\u001b[0m                                 Traceback (most recent call last)",
      "Cell \u001b[0;32mIn[2], line 1\u001b[0m\n\u001b[0;32m----> 1\u001b[0m dataset \u001b[38;5;241m=\u001b[39m TimeSeriesDataSet(\n\u001b[1;32m      2\u001b[0m     data,\n\u001b[1;32m      3\u001b[0m     time_idx\u001b[38;5;241m=\u001b[39m\u001b[38;5;124m\"\u001b[39m\u001b[38;5;124mDate\u001b[39m\u001b[38;5;124m\"\u001b[39m,\n\u001b[1;32m      4\u001b[0m     target\u001b[38;5;241m=\u001b[39m\u001b[38;5;124m\"\u001b[39m\u001b[38;5;124mLtp\u001b[39m\u001b[38;5;124m\"\u001b[39m,  \u001b[38;5;66;03m# Last traded price as the target variable\u001b[39;00m\n\u001b[1;32m      5\u001b[0m     group_ids\u001b[38;5;241m=\u001b[39m[\u001b[38;5;124m\"\u001b[39m\u001b[38;5;124mS.N.\u001b[39m\u001b[38;5;124m\"\u001b[39m],  \u001b[38;5;66;03m# Assuming 'sn' can be used as a unique identifier for the stock\u001b[39;00m\n\u001b[1;32m      6\u001b[0m     min_encoder_length\u001b[38;5;241m=\u001b[39mmax_encoder_length,\n\u001b[1;32m      7\u001b[0m     max_encoder_length\u001b[38;5;241m=\u001b[39mmax_encoder_length,\n\u001b[1;32m      8\u001b[0m     min_prediction_length\u001b[38;5;241m=\u001b[39mmax_prediction_length,\n\u001b[1;32m      9\u001b[0m     max_prediction_length\u001b[38;5;241m=\u001b[39mmax_prediction_length,\n\u001b[1;32m     10\u001b[0m     static_categoricals\u001b[38;5;241m=\u001b[39m[\u001b[38;5;124m\"\u001b[39m\u001b[38;5;124mS.N.\u001b[39m\u001b[38;5;124m\"\u001b[39m],  \u001b[38;5;66;03m# Add static categorical features if any\u001b[39;00m\n\u001b[1;32m     11\u001b[0m     time_varying_known_categoricals\u001b[38;5;241m=\u001b[39m[],\n\u001b[1;32m     12\u001b[0m     time_varying_known_reals\u001b[38;5;241m=\u001b[39m[\u001b[38;5;124m\"\u001b[39m\u001b[38;5;124mOpen\u001b[39m\u001b[38;5;124m\"\u001b[39m, \u001b[38;5;124m\"\u001b[39m\u001b[38;5;124mHigh\u001b[39m\u001b[38;5;124m\"\u001b[39m, \u001b[38;5;124m\"\u001b[39m\u001b[38;5;124mLow\u001b[39m\u001b[38;5;124m\"\u001b[39m, \u001b[38;5;124m\"\u001b[39m\u001b[38;5;124mQty\u001b[39m\u001b[38;5;124m\"\u001b[39m, \u001b[38;5;124m\"\u001b[39m\u001b[38;5;124mTurnover\u001b[39m\u001b[38;5;124m\"\u001b[39m],  \u001b[38;5;66;03m# Add known real features\u001b[39;00m\n\u001b[1;32m     13\u001b[0m     time_varying_unknown_categoricals\u001b[38;5;241m=\u001b[39m[],\n\u001b[1;32m     14\u001b[0m     time_varying_unknown_reals\u001b[38;5;241m=\u001b[39m[\u001b[38;5;124m\"\u001b[39m\u001b[38;5;124mLtp\u001b[39m\u001b[38;5;124m\"\u001b[39m],  \u001b[38;5;66;03m# Target variable\u001b[39;00m\n\u001b[1;32m     15\u001b[0m     target_normalizer\u001b[38;5;241m=\u001b[39mGroupNormalizer(groups\u001b[38;5;241m=\u001b[39m[\u001b[38;5;124m\"\u001b[39m\u001b[38;5;124mS.N.\u001b[39m\u001b[38;5;124m\"\u001b[39m], transformation\u001b[38;5;241m=\u001b[39m\u001b[38;5;124m\"\u001b[39m\u001b[38;5;124msoftplus\u001b[39m\u001b[38;5;124m\"\u001b[39m),\n\u001b[1;32m     16\u001b[0m     add_relative_time_idx\u001b[38;5;241m=\u001b[39m\u001b[38;5;28;01mTrue\u001b[39;00m,\n\u001b[1;32m     17\u001b[0m     add_target_scales\u001b[38;5;241m=\u001b[39m\u001b[38;5;28;01mTrue\u001b[39;00m,\n\u001b[1;32m     18\u001b[0m     add_encoder_length\u001b[38;5;241m=\u001b[39m\u001b[38;5;28;01mTrue\u001b[39;00m,\n\u001b[1;32m     19\u001b[0m )\n",
      "\u001b[0;31mNameError\u001b[0m: name 'TimeSeriesDataSet' is not defined"
     ]
    }
   ],
   "source": [
    "dataset = TimeSeriesDataSet(\n",
    "    data,\n",
    "    time_idx=\"Date\",\n",
    "    target=\"Ltp\",  # Last traded price as the target variable\n",
    "    group_ids=[\"S.N.\"],  # Assuming 'sn' can be used as a unique identifier for the stock\n",
    "    min_encoder_length=max_encoder_length,\n",
    "    max_encoder_length=max_encoder_length,\n",
    "    min_prediction_length=max_prediction_length,\n",
    "    max_prediction_length=max_prediction_length,\n",
    "    static_categoricals=[\"S.N.\"],  # Add static categorical features if any\n",
    "    time_varying_known_categoricals=[],\n",
    "    time_varying_known_reals=[\"Open\", \"High\", \"Low\", \"Qty\", \"Turnover\"],  # Add known real features\n",
    "    time_varying_unknown_categoricals=[],\n",
    "    time_varying_unknown_reals=[\"Ltp\"],  # Target variable\n",
    "    target_normalizer=GroupNormalizer(groups=[\"S.N.\"], transformation=\"softplus\"),\n",
    "    add_relative_time_idx=True,\n",
    "    add_target_scales=True,\n",
    "    add_encoder_length=True,\n",
    ")"
   ]
  },
  {
   "cell_type": "code",
   "execution_count": null,
   "id": "5a451689-5934-4733-af80-7478830c94fa",
   "metadata": {},
   "outputs": [],
   "source": []
  }
 ],
 "metadata": {
  "kernelspec": {
   "display_name": "Python 3 (ipykernel)",
   "language": "python",
   "name": "python3"
  },
  "language_info": {
   "codemirror_mode": {
    "name": "ipython",
    "version": 3
   },
   "file_extension": ".py",
   "mimetype": "text/x-python",
   "name": "python",
   "nbconvert_exporter": "python",
   "pygments_lexer": "ipython3",
   "version": "3.11.5"
  }
 },
 "nbformat": 4,
 "nbformat_minor": 5
}

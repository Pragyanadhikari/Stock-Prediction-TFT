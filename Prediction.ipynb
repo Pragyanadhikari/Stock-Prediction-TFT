{
 "cells": [
  {
   "cell_type": "code",
   "execution_count": 137,
   "id": "44a90c26-71f9-4c23-b7d3-47edd132d6d6",
   "metadata": {},
   "outputs": [],
   "source": [
    "import joblib\n",
    "from tensorflow.keras.models import load_model\n",
    "import numpy as np\n",
    "import pandas as pd\n",
    "import matplotlib.pyplot as plt"
   ]
  },
  {
   "cell_type": "code",
   "execution_count": 139,
   "id": "dbdbe5ca-8ec6-4a2c-8336-ea7f53f6afe9",
   "metadata": {},
   "outputs": [
    {
     "name": "stderr",
     "output_type": "stream",
     "text": [
      "WARNING:absl:At this time, the v2.11+ optimizer `tf.keras.optimizers.Adam` runs slowly on M1/M2 Macs, please use the legacy Keras optimizer instead, located at `tf.keras.optimizers.legacy.Adam`.\n"
     ]
    }
   ],
   "source": [
    "# Load the best model\n",
    "best_model = load_model('STOCK_best_model_transformer.h5')"
   ]
  },
  {
   "cell_type": "code",
   "execution_count": 140,
   "id": "eb76afe4-f423-44f1-8796-09fef74f9d2b",
   "metadata": {},
   "outputs": [],
   "source": [
    "# Load the saved scaler\n",
    "scaler = joblib.load('scaler.pkl')"
   ]
  },
  {
   "cell_type": "code",
   "execution_count": 143,
   "id": "b638f36e-ffbb-4d06-ad11-4eedcb2d1844",
   "metadata": {},
   "outputs": [],
   "source": [
    "csv_file_path = 'NULBdata.csv'  # Replace with your actual CSV file path\n",
    "df_stock = pd.read_csv(csv_file_path)\n"
   ]
  },
  {
   "cell_type": "code",
   "execution_count": 145,
   "id": "fc39bb58-ad76-4145-8575-c90188204b04",
   "metadata": {},
   "outputs": [],
   "source": [
    "df_stock=df_stock.rename(columns={'% Change':'Change'})"
   ]
  },
  {
   "cell_type": "code",
   "execution_count": 147,
   "id": "b4a1edb7-5a7a-4088-bd13-170ca1bf464e",
   "metadata": {},
   "outputs": [],
   "source": [
    "import datetime\n",
    "\n",
    "def str_to_datetime(s):\n",
    "    split = s.split('/')\n",
    "    day, month, year = int(split[0]), int(split[1]), int(split[2])\n",
    "    return datetime.datetime(year=year, month=month, day=day)"
   ]
  },
  {
   "cell_type": "code",
   "execution_count": 149,
   "id": "aa695d9a-c001-4d78-a380-fe61843c0be8",
   "metadata": {},
   "outputs": [],
   "source": [
    "df_stock['Date'] = pd.to_datetime(df_stock['Date'], format='%d/%m/%Y')\n"
   ]
  },
  {
   "cell_type": "code",
   "execution_count": 151,
   "id": "8d167771-487c-49df-8f15-6ab2e97efb26",
   "metadata": {},
   "outputs": [],
   "source": [
    "df_stock['Open'] = df_stock['Open'].str.replace(',', '').astype(float)\n",
    "df_stock['High'] = df_stock['High'].str.replace(',', '').astype(float)\n",
    "df_stock['Low'] = df_stock['Low'].str.replace(',', '').astype(float)\n",
    "df_stock['Ltp'] = df_stock['Ltp'].str.replace(',', '').astype(float)\n",
    "df_stock['Qty'] = df_stock['Qty'].str.replace(',', '').astype(float)\n",
    "df_stock['Turnover'] = df_stock['Turnover'].str.replace(',', '').astype(float)\n",
    "df_stock['Change'] = df_stock['Change'].astype(float)\n",
    "df_stock['Date'] = pd.to_datetime(df_stock['Date'], format='%d/%m/%Y')\n",
    "\n",
    "# Extract additional temporal features\n",
    "df_stock['day_of_week'] = df_stock['Date'].dt.dayofweek\n",
    "df_stock['month'] = df_stock['Date'].dt.month"
   ]
  },
  {
   "cell_type": "code",
   "execution_count": 153,
   "id": "14ce439e-26d7-4c36-8d77-40a659e69dc5",
   "metadata": {},
   "outputs": [],
   "source": [
    "# Convert all necessary columns to strings first\n",
    "df_stock['Open'] = df_stock['Open'].astype(str)\n",
    "df_stock['High'] = df_stock['High'].astype(str)\n",
    "df_stock['Low'] = df_stock['Low'].astype(str)\n",
    "df_stock['Ltp'] = df_stock['Ltp'].astype(str)\n",
    "df_stock['Qty'] = df_stock['Qty'].astype(str)\n",
    "df_stock['Turnover'] = df_stock['Turnover'].astype(str)\n",
    "\n",
    "# Remove commas from numeric columns and convert to float\n",
    "df_stock['Open'] = df_stock['Open'].str.replace(',', '').astype(float)\n",
    "df_stock['High'] = df_stock['High'].str.replace(',', '').astype(float)\n",
    "df_stock['Low'] = df_stock['Low'].str.replace(',', '').astype(float)\n",
    "df_stock['Ltp'] = df_stock['Ltp'].str.replace(',', '').astype(float)\n",
    "df_stock['Qty'] = df_stock['Qty'].str.replace(',', '').astype(float)\n",
    "df_stock['Turnover'] = df_stock['Turnover'].str.replace(',', '').astype(float)\n",
    "df_stock['Change'] = df_stock['Change'].astype(float)\n"
   ]
  },
  {
   "cell_type": "code",
   "execution_count": 155,
   "id": "cb879c90-9631-420d-8d84-7cf242592022",
   "metadata": {},
   "outputs": [],
   "source": [
    "features = ['Open', 'High', 'Low', 'Ltp', 'Change', 'Qty', 'Turnover', 'day_of_week', 'month']\n",
    "df_stock = df_stock[features]"
   ]
  },
  {
   "cell_type": "code",
   "execution_count": 157,
   "id": "9c87d77c-4bd6-4ce2-8d04-45fcecb0cde0",
   "metadata": {},
   "outputs": [],
   "source": [
    "# Normalize the data using the same scaler\n",
    "df_stock_scaled = df_stock.copy()\n",
    "df_stock_scaled[features] = scaler.transform(df_stock[features])"
   ]
  },
  {
   "cell_type": "code",
   "execution_count": 165,
   "id": "c152a9e5-9725-4d5d-b55c-e7534f5d88f8",
   "metadata": {},
   "outputs": [],
   "source": [
    "# Prepare the data for the model\n",
    "def df_to_X_y(df, window_size=5):\n",
    "    df_as_np = df.to_numpy()\n",
    "    X = []\n",
    "    y = []\n",
    "    for i in range(len(df_as_np) - window_size):\n",
    "        row = [r for r in df_as_np[i:i+window_size]]\n",
    "        X.append(row)\n",
    "        label = df_as_np[i+window_size][3]  # Predicting 'Ltp'\n",
    "        y.append(label)\n",
    "    return np.array(X), np.array(y)\n",
    "\n",
    "WINDOW_SIZE = 5\n",
    "X_new, _ = df_to_X_y(df_stock_scaled, WINDOW_SIZE)"
   ]
  },
  {
   "cell_type": "code",
   "execution_count": 167,
   "id": "997cc185-a44f-470e-88ff-d67c74ac76b1",
   "metadata": {},
   "outputs": [
    {
     "name": "stdout",
     "output_type": "stream",
     "text": [
      "Shape of X_new: (2471, 5, 9)\n"
     ]
    }
   ],
   "source": [
    "# Check the shape of the input data\n",
    "print(f\"Shape of X_new: {X_new.shape}\")"
   ]
  },
  {
   "cell_type": "code",
   "execution_count": 169,
   "id": "242b0a0a-6201-420a-bb84-2876051f7546",
   "metadata": {},
   "outputs": [
    {
     "name": "stdout",
     "output_type": "stream",
     "text": [
      "78/78 [==============================] - 1s 4ms/step\n"
     ]
    }
   ],
   "source": [
    "# Make predictions\n",
    "y_pred_new = best_model.predict(X_new)"
   ]
  },
  {
   "cell_type": "code",
   "execution_count": 171,
   "id": "23c6d0b7-af1c-4569-afbb-12d3743b4ee3",
   "metadata": {},
   "outputs": [
    {
     "name": "stdout",
     "output_type": "stream",
     "text": [
      "Shape of y_pred_new: (2471, 1)\n"
     ]
    }
   ],
   "source": [
    "\n",
    "# Check the shape of the predictions\n",
    "print(f\"Shape of y_pred_new: {y_pred_new.shape}\")"
   ]
  },
  {
   "cell_type": "code",
   "execution_count": 173,
   "id": "8ae3eb32-53da-4cc4-8859-a91ce3d816a8",
   "metadata": {},
   "outputs": [],
   "source": [
    "full_pred = np.zeros((y_pred_new.shape[0], len(features)))\n",
    "full_pred[:, 3] = y_pred_new.flatten()  # Assign predictions to the 'Ltp' column index\n",
    "y_pred_new_inverse = scaler.inverse_transform(full_pred)[:, 3]"
   ]
  },
  {
   "cell_type": "code",
   "execution_count": 175,
   "id": "52e5ba87-775a-44ac-a856-be37a4e7c10a",
   "metadata": {},
   "outputs": [],
   "source": [
    "# Determine the action: Buy, Sell, Hold\n",
    "last_known_value = df_stock['Ltp'].iloc[-1]\n",
    "predicted_value = y_pred_new_inverse[-1] \n"
   ]
  },
  {
   "cell_type": "code",
   "execution_count": 177,
   "id": "990ed6b5-7215-4b73-adf1-8ff271d19445",
   "metadata": {},
   "outputs": [],
   "source": [
    "threshold = 0.02  # Define a threshold for action decision\n",
    "action = \"Hold\"\n",
    "if predicted_value > last_known_value * (1 + threshold):\n",
    "    action = \"Buy\"\n",
    "elif predicted_value < last_known_value * (1 - threshold):\n",
    "    action = \"Sell\"\n"
   ]
  },
  {
   "cell_type": "code",
   "execution_count": 179,
   "id": "f6d14277-6b93-45f9-ba53-7bc196c452bc",
   "metadata": {},
   "outputs": [
    {
     "name": "stdout",
     "output_type": "stream",
     "text": [
      "Predicted value: 290.38248417526484\n",
      "Action: Buy\n"
     ]
    }
   ],
   "source": [
    "print(f\"Predicted value: {predicted_value}\")\n",
    "print(f\"Action: {action}\")"
   ]
  },
  {
   "cell_type": "code",
   "execution_count": 181,
   "id": "7baf353c-b091-4ec0-8ca2-72bb8160b0e8",
   "metadata": {},
   "outputs": [
    {
     "data": {
      "image/png": "[encoded data removed]",
      "text/plain": [
       "<Figure size 1000x600 with 1 Axes>"
      ]
     },
     "metadata": {},
     "output_type": "display_data"
    }
   ],
   "source": [
    "# Plot the results\n",
    "plt.figure(figsize=(10, 6))\n",
    "plt.plot(df_stock.index, df_stock['Ltp'], label='Actual Ltp')\n",
    "plt.plot(range(len(df_stock.index), len(df_stock.index) + len(y_pred_new)), y_pred_new, label='Predicted Ltp')\n",
    "plt.xlabel('Time')\n",
    "plt.ylabel('Ltp')\n",
    "plt.title('Actual vs Predicted Ltp')\n",
    "plt.legend()\n",
    "plt.show()"
   ]
  },
  {
   "cell_type": "code",
   "execution_count": null,
   "id": "e683daea-2847-40cf-9c27-b893fb757761",
   "metadata": {},
   "outputs": [],
   "source": []
  }
 ],
 "metadata": {
  "kernelspec": {
   "display_name": "Python 3 (ipykernel)",
   "language": "python",
   "name": "python3"
  },
  "language_info": {
   "codemirror_mode": {
    "name": "ipython",
    "version": 3
   },
   "file_extension": ".py",
   "mimetype": "text/x-python",
   "name": "python",
   "nbconvert_exporter": "python",
   "pygments_lexer": "ipython3",
   "version": "3.11.5"
  }
 },
 "nbformat": 4,
 "nbformat_minor": 5
}

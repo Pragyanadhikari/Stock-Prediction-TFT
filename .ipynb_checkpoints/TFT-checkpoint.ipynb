{
 "cells": [
  {
   "cell_type": "markdown",
   "id": "c2c38a45",
   "metadata": {},
   "source": [
    "# Loading Dataset"
   ]
  },
  {
   "cell_type": "code",
   "execution_count": 2,
   "id": "a8dc5f53",
   "metadata": {},
   "outputs": [],
   "source": [
    "import numpy as np\n",
    "import pandas as pd\n",
    "import seaborn as sns\n",
    "import matplotlib.pyplot as plt"
   ]
  },
  {
   "cell_type": "code",
   "execution_count": 3,
   "id": "df393a62-9954-4b22-854b-7c3334135c23",
   "metadata": {},
   "outputs": [],
   "source": [
    "def load_dataset(path):\n",
    "    return pd.read_csv(path)"
   ]
  },
  {
   "cell_type": "code",
   "execution_count": 4,
   "id": "d625b59a-6c6b-4a9d-b847-36ae932db875",
   "metadata": {},
   "outputs": [],
   "source": [
    "file_path='./NULBdata.csv'\n",
    "df_stock = load_dataset(file_path)"
   ]
  },
  {
   "cell_type": "code",
   "execution_count": 5,
   "id": "b48b925a-e5f1-4a07-8fa8-814e1d5c6dd5",
   "metadata": {},
   "outputs": [
    {
     "data": {
      "text/html": [
       "<div>\n",
       "<style scoped>\n",
       "    .dataframe tbody tr th:only-of-type {\n",
       "        vertical-align: middle;\n",
       "    }\n",
       "\n",
       "    .dataframe tbody tr th {\n",
       "        vertical-align: top;\n",
       "    }\n",
       "\n",
       "    .dataframe thead th {\n",
       "        text-align: right;\n",
       "    }\n",
       "</style>\n",
       "<table border=\"1\" class=\"dataframe\">\n",
       "  <thead>\n",
       "    <tr style=\"text-align: right;\">\n",
       "      <th></th>\n",
       "      <th>S.N.</th>\n",
       "      <th>Date</th>\n",
       "      <th>Open</th>\n",
       "      <th>High</th>\n",
       "      <th>Low</th>\n",
       "      <th>Ltp</th>\n",
       "      <th>% Change</th>\n",
       "      <th>Qty</th>\n",
       "      <th>Turnover</th>\n",
       "    </tr>\n",
       "  </thead>\n",
       "  <tbody>\n",
       "    <tr>\n",
       "      <th>0</th>\n",
       "      <td>1</td>\n",
       "      <td>15/05/2024</td>\n",
       "      <td>675</td>\n",
       "      <td>682.9</td>\n",
       "      <td>660.1</td>\n",
       "      <td>660.1</td>\n",
       "      <td>-1.62</td>\n",
       "      <td>15,761.00</td>\n",
       "      <td>1,06,01,118.70</td>\n",
       "    </tr>\n",
       "    <tr>\n",
       "      <th>1</th>\n",
       "      <td>2</td>\n",
       "      <td>14/05/2024</td>\n",
       "      <td>655</td>\n",
       "      <td>674.9</td>\n",
       "      <td>655</td>\n",
       "      <td>671</td>\n",
       "      <td>3.07</td>\n",
       "      <td>18,718.00</td>\n",
       "      <td>1,25,18,869.30</td>\n",
       "    </tr>\n",
       "    <tr>\n",
       "      <th>2</th>\n",
       "      <td>3</td>\n",
       "      <td>13/05/2024</td>\n",
       "      <td>650</td>\n",
       "      <td>658</td>\n",
       "      <td>645</td>\n",
       "      <td>651</td>\n",
       "      <td>0.11</td>\n",
       "      <td>5,463.00</td>\n",
       "      <td>35,48,046.70</td>\n",
       "    </tr>\n",
       "    <tr>\n",
       "      <th>3</th>\n",
       "      <td>4</td>\n",
       "      <td>12/05/2024</td>\n",
       "      <td>670</td>\n",
       "      <td>670</td>\n",
       "      <td>650.3</td>\n",
       "      <td>650.3</td>\n",
       "      <td>-2.94</td>\n",
       "      <td>6,884.00</td>\n",
       "      <td>45,11,826.40</td>\n",
       "    </tr>\n",
       "    <tr>\n",
       "      <th>4</th>\n",
       "      <td>5</td>\n",
       "      <td>09/05/2024</td>\n",
       "      <td>683</td>\n",
       "      <td>689.6</td>\n",
       "      <td>662.6</td>\n",
       "      <td>670</td>\n",
       "      <td>-0.89</td>\n",
       "      <td>14,540.00</td>\n",
       "      <td>97,68,167.80</td>\n",
       "    </tr>\n",
       "    <tr>\n",
       "      <th>...</th>\n",
       "      <td>...</td>\n",
       "      <td>...</td>\n",
       "      <td>...</td>\n",
       "      <td>...</td>\n",
       "      <td>...</td>\n",
       "      <td>...</td>\n",
       "      <td>...</td>\n",
       "      <td>...</td>\n",
       "      <td>...</td>\n",
       "    </tr>\n",
       "    <tr>\n",
       "      <th>2471</th>\n",
       "      <td>2472</td>\n",
       "      <td>18/05/2011</td>\n",
       "      <td>230</td>\n",
       "      <td>230</td>\n",
       "      <td>230</td>\n",
       "      <td>230</td>\n",
       "      <td>0.00</td>\n",
       "      <td>22</td>\n",
       "      <td>5,060.00</td>\n",
       "    </tr>\n",
       "    <tr>\n",
       "      <th>2472</th>\n",
       "      <td>2473</td>\n",
       "      <td>16/05/2011</td>\n",
       "      <td>229</td>\n",
       "      <td>230</td>\n",
       "      <td>230</td>\n",
       "      <td>230</td>\n",
       "      <td>0.00</td>\n",
       "      <td>20</td>\n",
       "      <td>4,600.00</td>\n",
       "    </tr>\n",
       "    <tr>\n",
       "      <th>2473</th>\n",
       "      <td>2474</td>\n",
       "      <td>15/05/2011</td>\n",
       "      <td>225</td>\n",
       "      <td>229</td>\n",
       "      <td>229</td>\n",
       "      <td>229</td>\n",
       "      <td>0.00</td>\n",
       "      <td>57</td>\n",
       "      <td>13,053.00</td>\n",
       "    </tr>\n",
       "    <tr>\n",
       "      <th>2474</th>\n",
       "      <td>2475</td>\n",
       "      <td>12/05/2011</td>\n",
       "      <td>225</td>\n",
       "      <td>229</td>\n",
       "      <td>225</td>\n",
       "      <td>225</td>\n",
       "      <td>0.00</td>\n",
       "      <td>59</td>\n",
       "      <td>13,427.00</td>\n",
       "    </tr>\n",
       "    <tr>\n",
       "      <th>2475</th>\n",
       "      <td>2476</td>\n",
       "      <td>06/04/2011</td>\n",
       "      <td>225</td>\n",
       "      <td>225</td>\n",
       "      <td>225</td>\n",
       "      <td>225</td>\n",
       "      <td>0.00</td>\n",
       "      <td>64</td>\n",
       "      <td>14,400.00</td>\n",
       "    </tr>\n",
       "  </tbody>\n",
       "</table>\n",
       "<p>2476 rows × 9 columns</p>\n",
       "</div>"
      ],
      "text/plain": [
       "      S.N.        Date Open   High    Low    Ltp  % Change        Qty  \\\n",
       "0        1  15/05/2024  675  682.9  660.1  660.1     -1.62  15,761.00   \n",
       "1        2  14/05/2024  655  674.9    655    671      3.07  18,718.00   \n",
       "2        3  13/05/2024  650    658    645    651      0.11   5,463.00   \n",
       "3        4  12/05/2024  670    670  650.3  650.3     -2.94   6,884.00   \n",
       "4        5  09/05/2024  683  689.6  662.6    670     -0.89  14,540.00   \n",
       "...    ...         ...  ...    ...    ...    ...       ...        ...   \n",
       "2471  2472  18/05/2011  230    230    230    230      0.00         22   \n",
       "2472  2473  16/05/2011  229    230    230    230      0.00         20   \n",
       "2473  2474  15/05/2011  225    229    229    229      0.00         57   \n",
       "2474  2475  12/05/2011  225    229    225    225      0.00         59   \n",
       "2475  2476  06/04/2011  225    225    225    225      0.00         64   \n",
       "\n",
       "            Turnover  \n",
       "0     1,06,01,118.70  \n",
       "1     1,25,18,869.30  \n",
       "2       35,48,046.70  \n",
       "3       45,11,826.40  \n",
       "4       97,68,167.80  \n",
       "...              ...  \n",
       "2471        5,060.00  \n",
       "2472        4,600.00  \n",
       "2473       13,053.00  \n",
       "2474       13,427.00  \n",
       "2475       14,400.00  \n",
       "\n",
       "[2476 rows x 9 columns]"
      ]
     },
     "execution_count": 5,
     "metadata": {},
     "output_type": "execute_result"
    }
   ],
   "source": [
    "df_stock"
   ]
  },
  {
   "cell_type": "code",
   "execution_count": 10,
   "id": "87d11d4e-e33a-4c5c-b306-81d9c0096347",
   "metadata": {},
   "outputs": [],
   "source": [
    "df_stock=df_stock.rename(columns={'% Change':'Change'})"
   ]
  },
  {
   "cell_type": "code",
   "execution_count": 84,
   "id": "a6c2411e-8971-48ac-bb07-1788927ae340",
   "metadata": {},
   "outputs": [],
   "source": [
    "features = ['Open', 'High', 'Low', 'Ltp', 'Change', 'Qty', 'Turnover']\n",
    "df_stock = df_stock[features]"
   ]
  },
  {
   "cell_type": "code",
   "execution_count": 14,
   "id": "f7579d98-5579-463c-ad77-69405739106d",
   "metadata": {},
   "outputs": [],
   "source": [
    "import datetime\n",
    "\n",
    "def str_to_datetime(s):\n",
    "    split = s.split('/')\n",
    "    day, month, year = int(split[0]), int(split[1]), int(split[2])\n",
    "    return datetime.datetime(year=year, month=month, day=day)\n"
   ]
  },
  {
   "cell_type": "code",
   "execution_count": 16,
   "id": "c70335bf-67d1-48bd-8777-32189ce70096",
   "metadata": {},
   "outputs": [],
   "source": [
    "df_stock['Date'] = df_stock['Date'].apply(str_to_datetime)"
   ]
  },
  {
   "cell_type": "code",
   "execution_count": 18,
   "id": "f7018d7e-1ff8-419b-beda-8dca93c54ef7",
   "metadata": {},
   "outputs": [],
   "source": [
    "df_input = df_stock[['Open', 'High', 'Low', 'Ltp', 'Change', 'Qty', 'Turnover']]\n"
   ]
  },
  {
   "cell_type": "code",
   "execution_count": 20,
   "id": "3244aa65-0794-487e-a2d5-79cb2cb412b0",
   "metadata": {},
   "outputs": [],
   "source": [
    "def min_max_scaling(data):\n",
    "    min_val = np.min(data)\n",
    "    max_val = np.max(data)\n",
    "    scaled_data = (data - min_val) / (max_val - min_val)\n",
    "    return scaled_data, min_val, max_val\n"
   ]
  },
  {
   "cell_type": "code",
   "execution_count": 22,
   "id": "9f23118c-551a-44ea-ab6a-8268c8cbb1f2",
   "metadata": {},
   "outputs": [],
   "source": [
    "columns_to_scale = ['Open', 'High', 'Low', 'Ltp', 'Change', 'Qty', 'Turnover']\n",
    "scaled_df = df_input.copy()"
   ]
  },
  {
   "cell_type": "code",
   "execution_count": 24,
   "id": "92ebd3aa-25fb-40c7-b900-85e2a27741c1",
   "metadata": {},
   "outputs": [],
   "source": [
    "# Convert all necessary columns to strings first\n",
    "df_stock['Open'] = df_stock['Open'].astype(str)\n",
    "df_stock['High'] = df_stock['High'].astype(str)\n",
    "df_stock['Low'] = df_stock['Low'].astype(str)\n",
    "df_stock['Ltp'] = df_stock['Ltp'].astype(str)\n",
    "df_stock['Qty'] = df_stock['Qty'].astype(str)\n",
    "df_stock['Turnover'] = df_stock['Turnover'].astype(str)\n",
    "\n",
    "# Remove commas from numeric columns and convert to float\n",
    "df_stock['Open'] = df_stock['Open'].str.replace(',', '').astype(float)\n",
    "df_stock['High'] = df_stock['High'].str.replace(',', '').astype(float)\n",
    "df_stock['Low'] = df_stock['Low'].str.replace(',', '').astype(float)\n",
    "df_stock['Ltp'] = df_stock['Ltp'].str.replace(',', '').astype(float)\n",
    "df_stock['Qty'] = df_stock['Qty'].str.replace(',', '').astype(float)\n",
    "df_stock['Turnover'] = df_stock['Turnover'].str.replace(',', '').astype(float)\n",
    "df_stock['Change'] = df_stock['Change'].astype(float)\n",
    "\n",
    "\n"
   ]
  },
  {
   "cell_type": "code",
   "execution_count": 26,
   "id": "a3805553-3279-41c4-b184-1d3c2da124ae",
   "metadata": {},
   "outputs": [],
   "source": [
    "df_stock['Date'] = pd.to_datetime(df_stock['Date'], format='%d/%m/%Y')"
   ]
  },
  {
   "cell_type": "code",
   "execution_count": 86,
   "id": "624c5759-ae7a-498e-8b1a-8a00cf81141c",
   "metadata": {},
   "outputs": [],
   "source": [
    "features = ['Open', 'High', 'Low', 'Ltp', 'Change', 'Qty', 'Turnover']\n",
    "df_stock = df_stock[features]"
   ]
  },
  {
   "cell_type": "code",
   "execution_count": 88,
   "id": "bab7933a-cf1e-4912-bc56-9b03f62b94fa",
   "metadata": {},
   "outputs": [],
   "source": [
    "from sklearn.preprocessing import MinMaxScaler\n",
    "scaler = MinMaxScaler()\n",
    "df_scaled = df_stock.copy()\n",
    "df_scaled[['Open', 'High', 'Low', 'Ltp', 'Change', 'Qty', 'Turnover']] = scaler.fit_transform(df_stock[['Open', 'High', 'Low', 'Ltp', 'Change', 'Qty', 'Turnover']])\n"
   ]
  },
  {
   "cell_type": "code",
   "execution_count": 90,
   "id": "f18fd105",
   "metadata": {},
   "outputs": [],
   "source": [
    "def df_to_X_y(df, window_size=2):\n",
    "    df_as_np = df.to_numpy()\n",
    "    X = []\n",
    "    y = []\n",
    "    for i in range(len(df_as_np)-window_size):\n",
    "        row = [r for r in df_as_np[i:i+window_size]]\n",
    "        X.append(row)\n",
    "        label = df_as_np[i+window_size][4]  # Predicting 'Ltp'\n",
    "        y.append(label)\n",
    "    return np.array(X), np.array(y)"
   ]
  },
  {
   "cell_type": "code",
   "execution_count": 92,
   "id": "3157eaf5",
   "metadata": {},
   "outputs": [],
   "source": [
    "WINDOW_SIZE = 2\n",
    "X, y = df_to_X_y(df_scaled, WINDOW_SIZE)"
   ]
  },
  {
   "cell_type": "code",
   "execution_count": 94,
   "id": "a0d93c87-cb8a-43c1-aaec-ec42f00643c6",
   "metadata": {},
   "outputs": [],
   "source": [
    "\n",
    "from sklearn.model_selection import KFold\n",
    "from sklearn.metrics import mean_squared_error, mean_absolute_error, r2_score\n",
    "from tensorflow import keras\n",
    "from tensorflow.keras import layers\n",
    "\n"
   ]
  },
  {
   "cell_type": "code",
   "execution_count": 96,
   "id": "72759562-43a8-43d7-abec-3a0215ef9e68",
   "metadata": {},
   "outputs": [],
   "source": [
    "def transformer_encoder(inputs, head_size, num_heads, ff_dim, dropout=0):\n",
    "    x = layers.LayerNormalization(epsilon=1e-6)(inputs)\n",
    "    x = layers.MultiHeadAttention(key_dim=head_size, num_heads=num_heads, dropout=dropout)(x, x)\n",
    "    x = layers.Dropout(dropout)(x)\n",
    "    res = x + inputs\n",
    "\n",
    "    x = layers.LayerNormalization(epsilon=1e-6)(res)\n",
    "    x = layers.Conv1D(filters=ff_dim, kernel_size=1, activation=\"relu\")(x)\n",
    "    x = layers.Dropout(dropout)(x)\n",
    "    x = layers.Conv1D(filters=inputs.shape[-1], kernel_size=1)(x)\n",
    "    return x + res"
   ]
  },
  {
   "cell_type": "code",
   "execution_count": 98,
   "id": "4f43d33c-50d3-4182-a73d-5146de6746b0",
   "metadata": {},
   "outputs": [],
   "source": [
    "from tensorflow.keras.callbacks import EarlyStopping"
   ]
  },
  {
   "cell_type": "code",
   "execution_count": 100,
   "id": "3b96d03b-71d2-4501-84f4-4afe8319beff",
   "metadata": {},
   "outputs": [],
   "source": [
    "def build_model(hp):\n",
    "    inputs = keras.Input(shape=input_shape)\n",
    "    x = inputs\n",
    "\n",
    "    for i in range(hp.Int('num_transformer_blocks', min_value=2, max_value=8, step=2)):\n",
    "        x = transformer_encoder(x, hp.Int('head_size', min_value=8, max_value=256, step=32), hp.Int('num_heads', min_value=2, max_value=16), hp.Int('ff_dim', min_value=4, max_value=64), hp.Float(f'dropout_{i}', min_value=0.1, max_value=0.6))\n",
    "\n",
    "    x = layers.GlobalAveragePooling1D(data_format=\"channels_first\")(x)\n",
    "\n",
    "    for i in range(hp.Int('num_mlp_layers', min_value=1, max_value=3)):\n",
    "        x = layers.Dense(hp.Int(f'mlp_units_{i}', min_value=32, max_value=256, step=32))(x)\n",
    "        x = layers.Activation('relu')(x)\n",
    "        x = layers.Dropout(hp.Float(f'mlp_dropout_{i}', min_value=0.1, max_value=0.6))(x)\n",
    "\n",
    "    outputs = layers.Dense(1)(x)\n",
    "    model = keras.Model(inputs, outputs)\n",
    "\n",
    "    optimizer = hp.Choice('optimizer', values=['adam', 'adamax'])\n",
    "    learning_rate = hp.Float('learning_rate', min_value=1e-4, max_value=1e-2)\n",
    "\n",
    "    if optimizer == 'adam':\n",
    "        opt = Adam(learning_rate=learning_rate)\n",
    "    else:\n",
    "        opt = Adamax(learning_rate=learning_rate, beta_1=0.9, beta_2=0.999)\n",
    "\n",
    "    model.compile(optimizer=opt, loss=MeanSquaredError(), metrics=['mae', RootMeanSquaredError()])\n",
    "    return model\n",
    "\n"
   ]
  },
  {
   "cell_type": "code",
   "execution_count": 102,
   "id": "8aee983a-36f0-4441-8f2d-a116c16415e6",
   "metadata": {},
   "outputs": [],
   "source": [
    "input_shape = X.shape[1:]\n",
    "\n",
    "\n",
    "     "
   ]
  },
  {
   "cell_type": "code",
   "execution_count": 104,
   "id": "80546307-17b0-444c-b2e2-59ed6348adb8",
   "metadata": {},
   "outputs": [],
   "source": [
    "# Nested Cross-Validation\n",
    "import numpy as np\n",
    "from sklearn.model_selection import KFold\n",
    "import keras_tuner as kt\n",
    "\n",
    "best_model_hyperparameters = None\n",
    "best_model_mae = float('inf')\n",
    "worst_model_hyperparameters = None\n",
    "worst_model_mae = float('-inf')"
   ]
  },
  {
   "cell_type": "code",
   "execution_count": 106,
   "id": "29a7499c-a6b3-4b8b-b24a-98a49e872b56",
   "metadata": {},
   "outputs": [],
   "source": [
    "\n",
    "\n",
    "outer_cv = KFold(n_splits=2, shuffle=True, random_state=42)\n",
    "nested_scores = []"
   ]
  },
  {
   "cell_type": "code",
   "execution_count": 108,
   "id": "74424ac4-218a-4622-abbf-92802dffe829",
   "metadata": {},
   "outputs": [],
   "source": [
    "from tensorflow.keras.optimizers import Adam, Adamax"
   ]
  },
  {
   "cell_type": "code",
   "execution_count": 110,
   "id": "8c7d9d99-60c5-4eca-a409-08a101643f72",
   "metadata": {},
   "outputs": [],
   "source": [
    "import time\n",
    "from tensorflow.keras.losses import MeanSquaredError\n",
    "from tensorflow.keras.metrics import RootMeanSquaredError\n",
    "from sklearn.metrics import mean_absolute_error, mean_squared_error, r2_score"
   ]
  },
  {
   "cell_type": "code",
   "execution_count": 112,
   "id": "6e3f9aa2-5a7f-417b-889b-2b60b845d59b",
   "metadata": {},
   "outputs": [
    {
     "name": "stdout",
     "output_type": "stream",
     "text": [
      "Trial 3 Complete [00h 00m 07s]\n",
      "val_loss: 0.003401136724278331\n",
      "\n",
      "Best val_loss So Far: 0.003401136724278331\n",
      "Total elapsed time: 00h 00m 20s\n",
      "Best hyperparameters for fold 1: <keras_tuner.src.engine.hyperparameters.hyperparameters.HyperParameters object at 0x3ebb9b490>\n"
     ]
    },
    {
     "name": "stderr",
     "output_type": "stream",
     "text": [
      "WARNING:absl:At this time, the v2.11+ optimizer `tf.keras.optimizers.Adam` runs slowly on M1/M2 Macs, please use the legacy Keras optimizer instead, located at `tf.keras.optimizers.legacy.Adam`.\n"
     ]
    },
    {
     "name": "stdout",
     "output_type": "stream",
     "text": [
      "Epoch 1/5\n",
      "20/20 [==============================] - 5s 27ms/step - loss: 0.0837 - mae: 0.2297 - root_mean_squared_error: 0.2893 - val_loss: 0.0236 - val_mae: 0.1408 - val_root_mean_squared_error: 0.1536\n",
      "Epoch 2/5\n",
      "20/20 [==============================] - 0s 9ms/step - loss: 0.0249 - mae: 0.1252 - root_mean_squared_error: 0.1579 - val_loss: 0.0046 - val_mae: 0.0472 - val_root_mean_squared_error: 0.0680\n",
      "Epoch 3/5\n",
      "20/20 [==============================] - 0s 8ms/step - loss: 0.0118 - mae: 0.0854 - root_mean_squared_error: 0.1087 - val_loss: 0.0044 - val_mae: 0.0449 - val_root_mean_squared_error: 0.0664\n",
      "Epoch 4/5\n",
      "20/20 [==============================] - 0s 8ms/step - loss: 0.0084 - mae: 0.0718 - root_mean_squared_error: 0.0917 - val_loss: 0.0034 - val_mae: 0.0331 - val_root_mean_squared_error: 0.0584\n",
      "Epoch 5/5\n",
      "20/20 [==============================] - 0s 8ms/step - loss: 0.0074 - mae: 0.0662 - root_mean_squared_error: 0.0863 - val_loss: 0.0036 - val_mae: 0.0375 - val_root_mean_squared_error: 0.0596\n",
      "20/20 [==============================] - 0s 1ms/step\n",
      "39/39 [==============================] - 0s 6ms/step\n",
      "39/39 [==============================] - 0s 5ms/step\n"
     ]
    }
   ],
   "source": [
    "for fold_outer_idx, (train_ix, test_ix) in enumerate(outer_cv.split(X)):\n",
    "    X_train_outer, X_test_outer = X[train_ix], X[test_ix]\n",
    "    y_train_outer, y_test_outer = y[train_ix], y[test_ix]\n",
    "\n",
    "    inner_cv = KFold(n_splits=2, shuffle=True, random_state=42)\n",
    "\n",
    "    for fold_idx, (train_ix_inner, val_ix) in enumerate(inner_cv.split(X_train_outer)):\n",
    "        X_train_inner, X_val = X_train_outer[train_ix_inner], X_train_outer[val_ix]\n",
    "        y_train_inner, y_val = y_train_outer[train_ix_inner], y_train_outer[val_ix]\n",
    "\n",
    "        tuner = kt.RandomSearch(\n",
    "            build_model,\n",
    "            objective='val_loss',\n",
    "            max_trials=3,\n",
    "            directory=f'./keras_tuner_random_dir_fold_tf_{fold_outer_idx}_{fold_idx}',\n",
    "            project_name=f'hyperparameter_random_tuning_fold_tf_{fold_outer_idx}_{fold_idx}'\n",
    "        )\n",
    "\n",
    "        tuner.search(X_train_inner, y_train_inner, validation_data=(X_val, y_val), epochs=5)\n",
    "\n",
    "        best_hps = tuner.oracle.get_best_trials(1)[0].hyperparameters\n",
    "        print(f\"Best hyperparameters for fold {fold_idx}: {best_hps}\")\n",
    "\n",
    "        model = build_model(best_hps)\n",
    "        es = [keras.callbacks.EarlyStopping(patience=5, restore_best_weights=True)]\n",
    "\n",
    "        model.fit(X_train_inner, y_train_inner, validation_data=(X_val, y_val), epochs=5, batch_size=32, callbacks=es)\n",
    "\n",
    "        y_pred = model.predict(X_val)\n",
    "        mae = mean_squared_error(y_val, y_pred)\n",
    "\n",
    "        if mae < best_model_mae:\n",
    "            best_model_mae = mae\n",
    "            best_model_hyperparameters = best_hps\n",
    "            best_model = model\n",
    "\n",
    "        if mae > worst_model_mae:\n",
    "            worst_model_mae = mae\n",
    "            worst_model_hyperparameters = best_hps\n",
    "            worst_model = model\n",
    "\n",
    "    start_time = time.time()\n",
    "    y_pred_best = best_model.predict(X_test_outer)\n",
    "    y_pred_worst = worst_model.predict(X_test_outer)\n",
    "    end_time = time.time()\n",
    "\n",
    "    mse_best = mean_squared_error(y_test_outer, y_pred_best)\n",
    "    mae_best = mean_absolute_error(y_test_outer, y_pred_best)\n",
    "    rmse_best = np.sqrt(mse_best)\n",
    "    r2_best = r2_score(y_test_outer, y_pred_best)\n",
    "    time_duration = end_time - start_time\n",
    "\n",
    "    mse_worst = mean_squared_error(y_test_outer, y_pred_worst)\n",
    "    mae_worst = mean_absolute_error(y_test_outer, y_pred_worst)\n",
    "    rmse_worst = np.sqrt(mse_worst)\n",
    "    r2_worst = r2_score(y_test_outer, y_pred_worst)\n",
    "\n",
    "    nested_scores.append({\n",
    "        \"Best Model\": {\n",
    "            \"MSE\": mse_best,\n",
    "            \"R^2\": r2_best,\n",
    "            \"RMSE\": rmse_best,\n",
    "            \"MAE\": mae_best,\n",
    "            \"testing time\": time_duration\n",
    "        },\n",
    "        \"Worst Model\": {\n",
    "            \"MSE\": mse_worst,\n",
    "            \"R^2\": r2_worst,\n",
    "            \"RMSE\": rmse_worst,\n",
    "            \"MAE\": mae_worst\n",
    "        }\n",
    "    })\n",
    "\n"
   ]
  },
  {
   "cell_type": "code",
   "execution_count": 114,
   "id": "6dc39ca0-d4e4-44e7-b35f-103e79010d07",
   "metadata": {},
   "outputs": [
    {
     "name": "stdout",
     "output_type": "stream",
     "text": [
      "Nested Cross-Validation Scores:\n",
      "Fold 1:\n",
      "  Best Model - MSE: 0.0035143842067453536, R^2: -0.08211909148593177, RMSE: 0.05928224191733435, MAE: 0.03594728555416607, Testing Time: 0.6568729877471924\n",
      "  Worst Model - MSE: 0.007944227306163353, R^2: -1.4461184461856176, RMSE: 0.08913039496245573, MAE: 0.07451594668725191\n",
      "Fold 2:\n",
      "  Best Model - MSE: 0.0028244871525395735, R^2: -0.06593395946710445, RMSE: 0.0531459043816132, MAE: 0.03196721805459107, Testing Time: 0.6516900062561035\n",
      "  Worst Model - MSE: 0.02162303531976372, R^2: -7.160323063735323, RMSE: 0.14704773143358493, MAE: 0.13922217245062316\n"
     ]
    }
   ],
   "source": [
    "print(\"Nested Cross-Validation Scores:\")\n",
    "for idx, score in enumerate(nested_scores):\n",
    "    print(f\"Fold {idx+1}:\")\n",
    "    print(f\"  Best Model - MSE: {score['Best Model']['MSE']}, R^2: {score['Best Model']['R^2']}, RMSE: {score['Best Model']['RMSE']}, MAE: {score['Best Model']['MAE']}, Testing Time: {score['Best Model']['testing time']}\")\n",
    "    print(f\"  Worst Model - MSE: {score['Worst Model']['MSE']}, R^2: {score['Worst Model']['R^2']}, RMSE: {score['Worst Model']['RMSE']}, MAE: {score['Worst Model']['MAE']}\")\n"
   ]
  },
  {
   "cell_type": "code",
   "execution_count": 118,
   "id": "46dcd7eb-ff71-4baf-9642-9c85a6acef6a",
   "metadata": {},
   "outputs": [
    {
     "name": "stdout",
     "output_type": "stream",
     "text": [
      "78/78 [==============================] - 1s 12ms/step\n"
     ]
    },
    {
     "data": {
      "image/png": "[encoded data removed]",
      "text/plain": [
       "<Figure size 400x400 with 1 Axes>"
      ]
     },
     "metadata": {},
     "output_type": "display_data"
    }
   ],
   "source": [
    "\n",
    "import matplotlib.pyplot as plt\n",
    "\n",
    "# Predict using the best model\n",
    "y_pred = best_model.predict(X).flatten()\n",
    "y_observed = y.flatten()\n",
    "\n",
    "# Plotting\n",
    "plt.figure(figsize=(4,4))\n",
    "plt.scatter(y_observed, y_pred, color='blue', alpha=0.5)\n",
    "plt.plot([min(y_observed), max(y_observed)], [min(y_observed), max(y_observed)], color='red', linestyle='--')\n",
    "plt.title('Transformer - Observed vs Predicted')\n",
    "plt.xlabel('Observed Ltp')\n",
    "plt.ylabel('Predicted Ltp')\n",
    "plt.grid(True)\n",
    "plt.show()"
   ]
  },
  {
   "cell_type": "code",
   "execution_count": 120,
   "id": "90a58a40-ab4e-4f07-8c26-80bb75e0f141",
   "metadata": {},
   "outputs": [
    {
     "name": "stdout",
     "output_type": "stream",
     "text": [
      "Optimizer: Adam\n",
      "Learning Rate: 0.0022149195428937674\n"
     ]
    }
   ],
   "source": [
    "# Assuming best_model is your trained model\n",
    "optimizer = best_model.optimizer\n",
    "learning_rate = float(optimizer.learning_rate.numpy())\n",
    "\n",
    "# Print the optimizer and learning rate\n",
    "print(\"Optimizer:\", type(optimizer).__name__)\n",
    "print(\"Learning Rate:\", learning_rate)"
   ]
  },
  {
   "cell_type": "code",
   "execution_count": 122,
   "id": "47285bd3-e675-4ba8-80cb-ea52128defc6",
   "metadata": {},
   "outputs": [
    {
     "name": "stdout",
     "output_type": "stream",
     "text": [
      "Dropout Rates:\n",
      "dropout_9: 0.5655669416031684\n",
      "dropout_10: 0.5655669416031684\n",
      "dropout_11: 0.4171056793088289\n",
      "dropout_12: 0.4171056793088289\n",
      "dropout_13: 0.4755155682290082\n",
      "dropout_14: 0.4755155682290082\n",
      "dropout_15: 0.219521087856878\n",
      "dropout_16: 0.219521087856878\n",
      "dropout_17: 0.3902949681164948\n"
     ]
    }
   ],
   "source": [
    "# Function to extract dropout rate from a layer\n",
    "def get_dropout_rate(layer):\n",
    "    if hasattr(layer, 'rate'):\n",
    "        return layer.rate\n",
    "    elif hasattr(layer, 'dropout'):\n",
    "        return layer.dropout\n",
    "    else:\n",
    "        return None\n",
    "\n",
    "# Iterate through layers of the model and find the dropout rates\n",
    "dropout_rates = []\n",
    "\n",
    "for layer in best_model.layers:\n",
    "    rate = get_dropout_rate(layer)\n",
    "    if rate is not None:\n",
    "        dropout_rates.append((layer.name, rate))\n",
    "\n",
    "# Print the dropout rates\n",
    "print(\"Dropout Rates:\")\n",
    "for layer_name, rate in dropout_rates:\n",
    "    print(f\"{layer_name}: {rate}\")\n"
   ]
  },
  {
   "cell_type": "code",
   "execution_count": 124,
   "id": "2be5d04c-b771-40e4-af29-529d573222a3",
   "metadata": {},
   "outputs": [
    {
     "name": "stdout",
     "output_type": "stream",
     "text": [
      "Best Hyperparameters: {'num_transformer_blocks': 4, 'head_size': 232, 'num_heads': 13, 'ff_dim': 5, 'dropout_0': 0.5655669416031684, 'dropout_1': 0.4171056793088289, 'num_mlp_layers': 1, 'mlp_units_0': 224, 'mlp_dropout_0': 0.3902949681164948, 'optimizer': 'adam', 'learning_rate': 0.002214919546174087, 'dropout_2': 0.4755155682290082, 'dropout_3': 0.219521087856878, 'mlp_units_1': 192, 'mlp_dropout_1': 0.546839720849624, 'mlp_units_2': 256, 'mlp_dropout_2': 0.4420878986652911}\n",
      "Worst Hyperparameters: {'num_transformer_blocks': 4, 'head_size': 200, 'num_heads': 8, 'ff_dim': 49, 'dropout_0': 0.2536874522236241, 'dropout_1': 0.42479458137704096, 'num_mlp_layers': 2, 'mlp_units_0': 64, 'mlp_dropout_0': 0.36445925981979377, 'optimizer': 'adamax', 'learning_rate': 0.008702121139676207, 'mlp_units_1': 160, 'mlp_dropout_1': 0.11156902330225207, 'dropout_2': 0.1, 'dropout_3': 0.1}\n"
     ]
    }
   ],
   "source": [
    "best_hyperparameters_dict = best_model_hyperparameters.values\n",
    "worst_hyperparameters_dict = worst_model_hyperparameters.values\n",
    "\n",
    "print(\"Best Hyperparameters:\", best_hyperparameters_dict)\n",
    "print(\"Worst Hyperparameters:\", worst_hyperparameters_dict)"
   ]
  },
  {
   "cell_type": "code",
   "execution_count": 130,
   "id": "0359ec45-2efd-4575-a52b-42ee871f3475",
   "metadata": {},
   "outputs": [
    {
     "name": "stderr",
     "output_type": "stream",
     "text": [
      "/Applications/anaconda3/lib/python3.11/site-packages/keras/src/engine/training.py:3103: UserWarning: You are saving your model as an HDF5 file via `model.save()`. This file format is considered legacy. We recommend using instead the native Keras format, e.g. `model.save('my_model.keras')`.\n",
      "  saving_api.save_model(\n"
     ]
    }
   ],
   "source": [
    "# Assuming best_model is your final trained model\n",
    "best_model.save('./best_model_transformer_4i.h5')"
   ]
  },
  {
   "cell_type": "code",
   "execution_count": 136,
   "id": "2ebd6ff6-be1a-4bd6-8c94-1175e2d6284d",
   "metadata": {},
   "outputs": [
    {
     "name": "stdout",
     "output_type": "stream",
     "text": [
      "You must install pydot (`pip install pydot`) and install graphviz (see instructions at https://graphviz.gitlab.io/download/) for plot_model to work.\n"
     ]
    }
   ],
   "source": [
    "from keras.utils import plot_model\n",
    "\n",
    "# Visualize the model architecture and save the diagram to a file\n",
    "plot_model(best_model, to_file='tf_model.png', show_shapes=True, show_layer_names=True)\n"
   ]
  },
  {
   "cell_type": "code",
   "execution_count": null,
   "id": "e279643a-96a6-4f3e-9b08-8d3733836af9",
   "metadata": {},
   "outputs": [],
   "source": []
  }
 ],
 "metadata": {
  "kernelspec": {
   "display_name": "Python 3 (ipykernel)",
   "language": "python",
   "name": "python3"
  },
  "language_info": {
   "codemirror_mode": {
    "name": "ipython",
    "version": 3
   },
   "file_extension": ".py",
   "mimetype": "text/x-python",
   "name": "python",
   "nbconvert_exporter": "python",
   "pygments_lexer": "ipython3",
   "version": "3.11.5"
  }
 },
 "nbformat": 4,
 "nbformat_minor": 5
}

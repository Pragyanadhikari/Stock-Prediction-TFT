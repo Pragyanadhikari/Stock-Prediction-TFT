{
 "cells": [
  {
   "cell_type": "markdown",
   "id": "c2c38a45",
   "metadata": {},
   "source": [
    "# Loading Dataset"
   ]
  },
  {
   "cell_type": "code",
   "execution_count": 4,
   "id": "a8dc5f53",
   "metadata": {},
   "outputs": [],
   "source": [
    "import numpy as np\n",
    "import pandas as pd\n",
    "import seaborn as sns\n",
    "import matplotlib.pyplot as plt"
   ]
  },
  {
   "cell_type": "code",
   "execution_count": 6,
   "id": "df393a62-9954-4b22-854b-7c3334135c23",
   "metadata": {},
   "outputs": [],
   "source": [
    "def load_dataset(path):\n",
    "    return pd.read_csv(path)"
   ]
  },
  {
   "cell_type": "code",
   "execution_count": 8,
   "id": "d625b59a-6c6b-4a9d-b847-36ae932db875",
   "metadata": {},
   "outputs": [],
   "source": [
    "file_path='./NULBdata.csv'\n",
    "df_stock = load_dataset(file_path)"
   ]
  },
  {
   "cell_type": "code",
   "execution_count": 10,
   "id": "b48b925a-e5f1-4a07-8fa8-814e1d5c6dd5",
   "metadata": {},
   "outputs": [
    {
     "data": {
      "text/html": [
       "<div>\n",
       "<style scoped>\n",
       "    .dataframe tbody tr th:only-of-type {\n",
       "        vertical-align: middle;\n",
       "    }\n",
       "\n",
       "    .dataframe tbody tr th {\n",
       "        vertical-align: top;\n",
       "    }\n",
       "\n",
       "    .dataframe thead th {\n",
       "        text-align: right;\n",
       "    }\n",
       "</style>\n",
       "<table border=\"1\" class=\"dataframe\">\n",
       "  <thead>\n",
       "    <tr style=\"text-align: right;\">\n",
       "      <th></th>\n",
       "      <th>S.N.</th>\n",
       "      <th>Date</th>\n",
       "      <th>Open</th>\n",
       "      <th>High</th>\n",
       "      <th>Low</th>\n",
       "      <th>Ltp</th>\n",
       "      <th>% Change</th>\n",
       "      <th>Qty</th>\n",
       "      <th>Turnover</th>\n",
       "    </tr>\n",
       "  </thead>\n",
       "  <tbody>\n",
       "    <tr>\n",
       "      <th>0</th>\n",
       "      <td>1</td>\n",
       "      <td>15/05/2024</td>\n",
       "      <td>675</td>\n",
       "      <td>682.9</td>\n",
       "      <td>660.1</td>\n",
       "      <td>660.1</td>\n",
       "      <td>-1.62</td>\n",
       "      <td>15,761.00</td>\n",
       "      <td>1,06,01,118.70</td>\n",
       "    </tr>\n",
       "    <tr>\n",
       "      <th>1</th>\n",
       "      <td>2</td>\n",
       "      <td>14/05/2024</td>\n",
       "      <td>655</td>\n",
       "      <td>674.9</td>\n",
       "      <td>655</td>\n",
       "      <td>671</td>\n",
       "      <td>3.07</td>\n",
       "      <td>18,718.00</td>\n",
       "      <td>1,25,18,869.30</td>\n",
       "    </tr>\n",
       "    <tr>\n",
       "      <th>2</th>\n",
       "      <td>3</td>\n",
       "      <td>13/05/2024</td>\n",
       "      <td>650</td>\n",
       "      <td>658</td>\n",
       "      <td>645</td>\n",
       "      <td>651</td>\n",
       "      <td>0.11</td>\n",
       "      <td>5,463.00</td>\n",
       "      <td>35,48,046.70</td>\n",
       "    </tr>\n",
       "    <tr>\n",
       "      <th>3</th>\n",
       "      <td>4</td>\n",
       "      <td>12/05/2024</td>\n",
       "      <td>670</td>\n",
       "      <td>670</td>\n",
       "      <td>650.3</td>\n",
       "      <td>650.3</td>\n",
       "      <td>-2.94</td>\n",
       "      <td>6,884.00</td>\n",
       "      <td>45,11,826.40</td>\n",
       "    </tr>\n",
       "    <tr>\n",
       "      <th>4</th>\n",
       "      <td>5</td>\n",
       "      <td>09/05/2024</td>\n",
       "      <td>683</td>\n",
       "      <td>689.6</td>\n",
       "      <td>662.6</td>\n",
       "      <td>670</td>\n",
       "      <td>-0.89</td>\n",
       "      <td>14,540.00</td>\n",
       "      <td>97,68,167.80</td>\n",
       "    </tr>\n",
       "    <tr>\n",
       "      <th>...</th>\n",
       "      <td>...</td>\n",
       "      <td>...</td>\n",
       "      <td>...</td>\n",
       "      <td>...</td>\n",
       "      <td>...</td>\n",
       "      <td>...</td>\n",
       "      <td>...</td>\n",
       "      <td>...</td>\n",
       "      <td>...</td>\n",
       "    </tr>\n",
       "    <tr>\n",
       "      <th>2471</th>\n",
       "      <td>2472</td>\n",
       "      <td>18/05/2011</td>\n",
       "      <td>230</td>\n",
       "      <td>230</td>\n",
       "      <td>230</td>\n",
       "      <td>230</td>\n",
       "      <td>0.00</td>\n",
       "      <td>22</td>\n",
       "      <td>5,060.00</td>\n",
       "    </tr>\n",
       "    <tr>\n",
       "      <th>2472</th>\n",
       "      <td>2473</td>\n",
       "      <td>16/05/2011</td>\n",
       "      <td>229</td>\n",
       "      <td>230</td>\n",
       "      <td>230</td>\n",
       "      <td>230</td>\n",
       "      <td>0.00</td>\n",
       "      <td>20</td>\n",
       "      <td>4,600.00</td>\n",
       "    </tr>\n",
       "    <tr>\n",
       "      <th>2473</th>\n",
       "      <td>2474</td>\n",
       "      <td>15/05/2011</td>\n",
       "      <td>225</td>\n",
       "      <td>229</td>\n",
       "      <td>229</td>\n",
       "      <td>229</td>\n",
       "      <td>0.00</td>\n",
       "      <td>57</td>\n",
       "      <td>13,053.00</td>\n",
       "    </tr>\n",
       "    <tr>\n",
       "      <th>2474</th>\n",
       "      <td>2475</td>\n",
       "      <td>12/05/2011</td>\n",
       "      <td>225</td>\n",
       "      <td>229</td>\n",
       "      <td>225</td>\n",
       "      <td>225</td>\n",
       "      <td>0.00</td>\n",
       "      <td>59</td>\n",
       "      <td>13,427.00</td>\n",
       "    </tr>\n",
       "    <tr>\n",
       "      <th>2475</th>\n",
       "      <td>2476</td>\n",
       "      <td>06/04/2011</td>\n",
       "      <td>225</td>\n",
       "      <td>225</td>\n",
       "      <td>225</td>\n",
       "      <td>225</td>\n",
       "      <td>0.00</td>\n",
       "      <td>64</td>\n",
       "      <td>14,400.00</td>\n",
       "    </tr>\n",
       "  </tbody>\n",
       "</table>\n",
       "<p>2476 rows × 9 columns</p>\n",
       "</div>"
      ],
      "text/plain": [
       "      S.N.        Date Open   High    Low    Ltp  % Change        Qty  \\\n",
       "0        1  15/05/2024  675  682.9  660.1  660.1     -1.62  15,761.00   \n",
       "1        2  14/05/2024  655  674.9    655    671      3.07  18,718.00   \n",
       "2        3  13/05/2024  650    658    645    651      0.11   5,463.00   \n",
       "3        4  12/05/2024  670    670  650.3  650.3     -2.94   6,884.00   \n",
       "4        5  09/05/2024  683  689.6  662.6    670     -0.89  14,540.00   \n",
       "...    ...         ...  ...    ...    ...    ...       ...        ...   \n",
       "2471  2472  18/05/2011  230    230    230    230      0.00         22   \n",
       "2472  2473  16/05/2011  229    230    230    230      0.00         20   \n",
       "2473  2474  15/05/2011  225    229    229    229      0.00         57   \n",
       "2474  2475  12/05/2011  225    229    225    225      0.00         59   \n",
       "2475  2476  06/04/2011  225    225    225    225      0.00         64   \n",
       "\n",
       "            Turnover  \n",
       "0     1,06,01,118.70  \n",
       "1     1,25,18,869.30  \n",
       "2       35,48,046.70  \n",
       "3       45,11,826.40  \n",
       "4       97,68,167.80  \n",
       "...              ...  \n",
       "2471        5,060.00  \n",
       "2472        4,600.00  \n",
       "2473       13,053.00  \n",
       "2474       13,427.00  \n",
       "2475       14,400.00  \n",
       "\n",
       "[2476 rows x 9 columns]"
      ]
     },
     "execution_count": 10,
     "metadata": {},
     "output_type": "execute_result"
    }
   ],
   "source": [
    "df_stock"
   ]
  },
  {
   "cell_type": "code",
   "execution_count": 18,
   "id": "87d11d4e-e33a-4c5c-b306-81d9c0096347",
   "metadata": {},
   "outputs": [],
   "source": [
    "df_stock=df_stock.rename(columns={'% Change':'Change'})"
   ]
  },
  {
   "cell_type": "code",
   "execution_count": 20,
   "id": "a6c2411e-8971-48ac-bb07-1788927ae340",
   "metadata": {},
   "outputs": [],
   "source": [
    "features = ['Date', 'Open', 'High', 'Low', 'Ltp', 'Change', 'Qty', 'Turnover']\n",
    "df_stock = df_stock[features]"
   ]
  },
  {
   "cell_type": "code",
   "execution_count": 22,
   "id": "f7579d98-5579-463c-ad77-69405739106d",
   "metadata": {},
   "outputs": [],
   "source": [
    "import datetime\n",
    "\n",
    "def str_to_datetime(s):\n",
    "    split = s.split('/')\n",
    "    day, month, year = int(split[0]), int(split[1]), int(split[2])\n",
    "    return datetime.datetime(year=year, month=month, day=day)\n"
   ]
  },
  {
   "cell_type": "code",
   "execution_count": 24,
   "id": "c70335bf-67d1-48bd-8777-32189ce70096",
   "metadata": {},
   "outputs": [],
   "source": [
    "df_stock['Date'] = df_stock['Date'].apply(str_to_datetime)"
   ]
  },
  {
   "cell_type": "code",
   "execution_count": 26,
   "id": "f7018d7e-1ff8-419b-beda-8dca93c54ef7",
   "metadata": {},
   "outputs": [],
   "source": [
    "df_input = df_stock[['Open', 'High', 'Low', 'Ltp', 'Change', 'Qty', 'Turnover']]\n"
   ]
  },
  {
   "cell_type": "code",
   "execution_count": 28,
   "id": "3244aa65-0794-487e-a2d5-79cb2cb412b0",
   "metadata": {},
   "outputs": [],
   "source": [
    "def min_max_scaling(data):\n",
    "    min_val = np.min(data)\n",
    "    max_val = np.max(data)\n",
    "    scaled_data = (data - min_val) / (max_val - min_val)\n",
    "    return scaled_data, min_val, max_val\n"
   ]
  },
  {
   "cell_type": "code",
   "execution_count": 30,
   "id": "9f23118c-551a-44ea-ab6a-8268c8cbb1f2",
   "metadata": {},
   "outputs": [],
   "source": [
    "columns_to_scale = ['Open', 'High', 'Low', 'Ltp', 'Change', 'Qty', 'Turnover']\n",
    "scaled_df = df_input.copy()"
   ]
  },
  {
   "cell_type": "code",
   "execution_count": 32,
   "id": "624c5759-ae7a-498e-8b1a-8a00cf81141c",
   "metadata": {},
   "outputs": [
    {
     "ename": "TypeError",
     "evalue": "unsupported operand type(s) for -: 'str' and 'str'",
     "output_type": "error",
     "traceback": [
      "\u001b[0;31m---------------------------------------------------------------------------\u001b[0m",
      "\u001b[0;31mTypeError\u001b[0m                                 Traceback (most recent call last)",
      "File \u001b[0;32m/Applications/anaconda3/lib/python3.11/site-packages/pandas/core/ops/array_ops.py:171\u001b[0m, in \u001b[0;36m_na_arithmetic_op\u001b[0;34m(left, right, op, is_cmp)\u001b[0m\n\u001b[1;32m    170\u001b[0m \u001b[38;5;28;01mtry\u001b[39;00m:\n\u001b[0;32m--> 171\u001b[0m     result \u001b[38;5;241m=\u001b[39m func(left, right)\n\u001b[1;32m    172\u001b[0m \u001b[38;5;28;01mexcept\u001b[39;00m \u001b[38;5;167;01mTypeError\u001b[39;00m:\n",
      "\u001b[0;31mTypeError\u001b[0m: unsupported operand type(s) for -: 'str' and 'str'",
      "\nDuring handling of the above exception, another exception occurred:\n",
      "\u001b[0;31mTypeError\u001b[0m                                 Traceback (most recent call last)",
      "Cell \u001b[0;32mIn[32], line 2\u001b[0m\n\u001b[1;32m      1\u001b[0m \u001b[38;5;28;01mfor\u001b[39;00m column \u001b[38;5;129;01min\u001b[39;00m columns_to_scale:\n\u001b[0;32m----> 2\u001b[0m     scaled_df[column], _, _ \u001b[38;5;241m=\u001b[39m min_max_scaling(df_input[column])\n\u001b[1;32m      4\u001b[0m \u001b[38;5;28mprint\u001b[39m(scaled_df)\n",
      "Cell \u001b[0;32mIn[28], line 4\u001b[0m, in \u001b[0;36mmin_max_scaling\u001b[0;34m(data)\u001b[0m\n\u001b[1;32m      2\u001b[0m min_val \u001b[38;5;241m=\u001b[39m np\u001b[38;5;241m.\u001b[39mmin(data)\n\u001b[1;32m      3\u001b[0m max_val \u001b[38;5;241m=\u001b[39m np\u001b[38;5;241m.\u001b[39mmax(data)\n\u001b[0;32m----> 4\u001b[0m scaled_data \u001b[38;5;241m=\u001b[39m (data \u001b[38;5;241m-\u001b[39m min_val) \u001b[38;5;241m/\u001b[39m (max_val \u001b[38;5;241m-\u001b[39m min_val)\n\u001b[1;32m      5\u001b[0m \u001b[38;5;28;01mreturn\u001b[39;00m scaled_data, min_val, max_val\n",
      "File \u001b[0;32m/Applications/anaconda3/lib/python3.11/site-packages/pandas/core/ops/common.py:81\u001b[0m, in \u001b[0;36m_unpack_zerodim_and_defer.<locals>.new_method\u001b[0;34m(self, other)\u001b[0m\n\u001b[1;32m     77\u001b[0m             \u001b[38;5;28;01mreturn\u001b[39;00m \u001b[38;5;28mNotImplemented\u001b[39m\n\u001b[1;32m     79\u001b[0m other \u001b[38;5;241m=\u001b[39m item_from_zerodim(other)\n\u001b[0;32m---> 81\u001b[0m \u001b[38;5;28;01mreturn\u001b[39;00m method(\u001b[38;5;28mself\u001b[39m, other)\n",
      "File \u001b[0;32m/Applications/anaconda3/lib/python3.11/site-packages/pandas/core/arraylike.py:194\u001b[0m, in \u001b[0;36mOpsMixin.__sub__\u001b[0;34m(self, other)\u001b[0m\n\u001b[1;32m    192\u001b[0m \u001b[38;5;129m@unpack_zerodim_and_defer\u001b[39m(\u001b[38;5;124m\"\u001b[39m\u001b[38;5;124m__sub__\u001b[39m\u001b[38;5;124m\"\u001b[39m)\n\u001b[1;32m    193\u001b[0m \u001b[38;5;28;01mdef\u001b[39;00m \u001b[38;5;21m__sub__\u001b[39m(\u001b[38;5;28mself\u001b[39m, other):\n\u001b[0;32m--> 194\u001b[0m     \u001b[38;5;28;01mreturn\u001b[39;00m \u001b[38;5;28mself\u001b[39m\u001b[38;5;241m.\u001b[39m_arith_method(other, operator\u001b[38;5;241m.\u001b[39msub)\n",
      "File \u001b[0;32m/Applications/anaconda3/lib/python3.11/site-packages/pandas/core/series.py:6112\u001b[0m, in \u001b[0;36mSeries._arith_method\u001b[0;34m(self, other, op)\u001b[0m\n\u001b[1;32m   6110\u001b[0m \u001b[38;5;28;01mdef\u001b[39;00m \u001b[38;5;21m_arith_method\u001b[39m(\u001b[38;5;28mself\u001b[39m, other, op):\n\u001b[1;32m   6111\u001b[0m     \u001b[38;5;28mself\u001b[39m, other \u001b[38;5;241m=\u001b[39m ops\u001b[38;5;241m.\u001b[39malign_method_SERIES(\u001b[38;5;28mself\u001b[39m, other)\n\u001b[0;32m-> 6112\u001b[0m     \u001b[38;5;28;01mreturn\u001b[39;00m base\u001b[38;5;241m.\u001b[39mIndexOpsMixin\u001b[38;5;241m.\u001b[39m_arith_method(\u001b[38;5;28mself\u001b[39m, other, op)\n",
      "File \u001b[0;32m/Applications/anaconda3/lib/python3.11/site-packages/pandas/core/base.py:1348\u001b[0m, in \u001b[0;36mIndexOpsMixin._arith_method\u001b[0;34m(self, other, op)\u001b[0m\n\u001b[1;32m   1345\u001b[0m rvalues \u001b[38;5;241m=\u001b[39m ensure_wrapped_if_datetimelike(rvalues)\n\u001b[1;32m   1347\u001b[0m \u001b[38;5;28;01mwith\u001b[39;00m np\u001b[38;5;241m.\u001b[39merrstate(\u001b[38;5;28mall\u001b[39m\u001b[38;5;241m=\u001b[39m\u001b[38;5;124m\"\u001b[39m\u001b[38;5;124mignore\u001b[39m\u001b[38;5;124m\"\u001b[39m):\n\u001b[0;32m-> 1348\u001b[0m     result \u001b[38;5;241m=\u001b[39m ops\u001b[38;5;241m.\u001b[39marithmetic_op(lvalues, rvalues, op)\n\u001b[1;32m   1350\u001b[0m \u001b[38;5;28;01mreturn\u001b[39;00m \u001b[38;5;28mself\u001b[39m\u001b[38;5;241m.\u001b[39m_construct_result(result, name\u001b[38;5;241m=\u001b[39mres_name)\n",
      "File \u001b[0;32m/Applications/anaconda3/lib/python3.11/site-packages/pandas/core/ops/array_ops.py:232\u001b[0m, in \u001b[0;36marithmetic_op\u001b[0;34m(left, right, op)\u001b[0m\n\u001b[1;32m    228\u001b[0m     _bool_arith_check(op, left, right)\n\u001b[1;32m    230\u001b[0m     \u001b[38;5;66;03m# error: Argument 1 to \"_na_arithmetic_op\" has incompatible type\u001b[39;00m\n\u001b[1;32m    231\u001b[0m     \u001b[38;5;66;03m# \"Union[ExtensionArray, ndarray[Any, Any]]\"; expected \"ndarray[Any, Any]\"\u001b[39;00m\n\u001b[0;32m--> 232\u001b[0m     res_values \u001b[38;5;241m=\u001b[39m _na_arithmetic_op(left, right, op)  \u001b[38;5;66;03m# type: ignore[arg-type]\u001b[39;00m\n\u001b[1;32m    234\u001b[0m \u001b[38;5;28;01mreturn\u001b[39;00m res_values\n",
      "File \u001b[0;32m/Applications/anaconda3/lib/python3.11/site-packages/pandas/core/ops/array_ops.py:178\u001b[0m, in \u001b[0;36m_na_arithmetic_op\u001b[0;34m(left, right, op, is_cmp)\u001b[0m\n\u001b[1;32m    172\u001b[0m \u001b[38;5;28;01mexcept\u001b[39;00m \u001b[38;5;167;01mTypeError\u001b[39;00m:\n\u001b[1;32m    173\u001b[0m     \u001b[38;5;28;01mif\u001b[39;00m \u001b[38;5;129;01mnot\u001b[39;00m is_cmp \u001b[38;5;129;01mand\u001b[39;00m (is_object_dtype(left\u001b[38;5;241m.\u001b[39mdtype) \u001b[38;5;129;01mor\u001b[39;00m is_object_dtype(right)):\n\u001b[1;32m    174\u001b[0m         \u001b[38;5;66;03m# For object dtype, fallback to a masked operation (only operating\u001b[39;00m\n\u001b[1;32m    175\u001b[0m         \u001b[38;5;66;03m#  on the non-missing values)\u001b[39;00m\n\u001b[1;32m    176\u001b[0m         \u001b[38;5;66;03m# Don't do this for comparisons, as that will handle complex numbers\u001b[39;00m\n\u001b[1;32m    177\u001b[0m         \u001b[38;5;66;03m#  incorrectly, see GH#32047\u001b[39;00m\n\u001b[0;32m--> 178\u001b[0m         result \u001b[38;5;241m=\u001b[39m _masked_arith_op(left, right, op)\n\u001b[1;32m    179\u001b[0m     \u001b[38;5;28;01melse\u001b[39;00m:\n\u001b[1;32m    180\u001b[0m         \u001b[38;5;28;01mraise\u001b[39;00m\n",
      "File \u001b[0;32m/Applications/anaconda3/lib/python3.11/site-packages/pandas/core/ops/array_ops.py:135\u001b[0m, in \u001b[0;36m_masked_arith_op\u001b[0;34m(x, y, op)\u001b[0m\n\u001b[1;32m    132\u001b[0m         mask \u001b[38;5;241m=\u001b[39m np\u001b[38;5;241m.\u001b[39mwhere(y \u001b[38;5;241m==\u001b[39m \u001b[38;5;241m1\u001b[39m, \u001b[38;5;28;01mFalse\u001b[39;00m, mask)\n\u001b[1;32m    134\u001b[0m     \u001b[38;5;28;01mif\u001b[39;00m mask\u001b[38;5;241m.\u001b[39many():\n\u001b[0;32m--> 135\u001b[0m         result[mask] \u001b[38;5;241m=\u001b[39m op(xrav[mask], y)\n\u001b[1;32m    137\u001b[0m np\u001b[38;5;241m.\u001b[39mputmask(result, \u001b[38;5;241m~\u001b[39mmask, np\u001b[38;5;241m.\u001b[39mnan)\n\u001b[1;32m    138\u001b[0m result \u001b[38;5;241m=\u001b[39m result\u001b[38;5;241m.\u001b[39mreshape(x\u001b[38;5;241m.\u001b[39mshape)  \u001b[38;5;66;03m# 2D compat\u001b[39;00m\n",
      "\u001b[0;31mTypeError\u001b[0m: unsupported operand type(s) for -: 'str' and 'str'"
     ]
    }
   ],
   "source": [
    "for column in columns_to_scale:\n",
    "    scaled_df[column], _, _ = min_max_scaling(df_input[column])\n",
    "\n",
    "print(scaled_df)"
   ]
  },
  {
   "cell_type": "code",
   "execution_count": 34,
   "id": "f18fd105",
   "metadata": {},
   "outputs": [],
   "source": [
    "def df_to_X_y(df, window_size=5):\n",
    "    df_as_np = df.to_numpy()\n",
    "    X = []\n",
    "    y = []\n",
    "    for i in range(len(df_as_np) - window_size):\n",
    "        row = [r for r in df_as_np[i:i + window_size]]\n",
    "        X.append(row)\n",
    "        label = df_as_np[i + window_size][0]  # Predicting 'Open' price\n",
    "        y.append(label)\n",
    "    return np.array(X), np.array(y)\n"
   ]
  },
  {
   "cell_type": "code",
   "execution_count": 36,
   "id": "3157eaf5",
   "metadata": {},
   "outputs": [
    {
     "data": {
      "text/plain": [
       "((2474, 2, 7), (2474,))"
      ]
     },
     "execution_count": 36,
     "metadata": {},
     "output_type": "execute_result"
    }
   ],
   "source": [
    "WINDOW_SIZE = 2\n",
    "X, y = df_to_X_y(scaled_df, WINDOW_SIZE)\n",
    "X.shape, y.shape"
   ]
  },
  {
   "cell_type": "code",
   "execution_count": 38,
   "id": "a0d93c87-cb8a-43c1-aaec-ec42f00643c6",
   "metadata": {},
   "outputs": [],
   "source": [
    "\n",
    "from sklearn.model_selection import KFold\n",
    "from sklearn.metrics import mean_squared_error, mean_absolute_error, r2_score\n",
    "from tensorflow import keras\n",
    "from tensorflow.keras import layers"
   ]
  },
  {
   "cell_type": "code",
   "execution_count": 39,
   "id": "72759562-43a8-43d7-abec-3a0215ef9e68",
   "metadata": {},
   "outputs": [],
   "source": [
    "def transformer_encoder(inputs, head_size, num_heads, ff_dim, dropout=0):\n",
    "    x = layers.LayerNormalization(epsilon=1e-6)(inputs)\n",
    "    x = layers.MultiHeadAttention(key_dim=head_size, num_heads=num_heads, dropout=dropout)(x, x)\n",
    "    x = layers.Dropout(dropout)(x)\n",
    "    res = x + inputs\n",
    "\n",
    "    x = layers.LayerNormalization(epsilon=1e-6)(res)\n",
    "    x = layers.Conv1D(filters=ff_dim, kernel_size=1, activation=\"relu\")(x)\n",
    "    x = layers.Dropout(dropout)(x)\n",
    "    x = layers.Conv1D(filters=inputs.shape[-1], kernel_size=1)(x)\n",
    "    return x + res"
   ]
  },
  {
   "cell_type": "code",
   "execution_count": 42,
   "id": "4f43d33c-50d3-4182-a73d-5146de6746b0",
   "metadata": {},
   "outputs": [],
   "source": [
    "from tensorflow.keras.callbacks import EarlyStopping"
   ]
  },
  {
   "cell_type": "code",
   "execution_count": 44,
   "id": "3b96d03b-71d2-4501-84f4-4afe8319beff",
   "metadata": {},
   "outputs": [],
   "source": [
    "def build_model(hp):\n",
    "    inputs = keras.Input(shape=input_shape)\n",
    "    x = inputs\n",
    "\n",
    "    for i in range(hp.Int('num_transformer_blocks', min_value=2, max_value=8, step=2)):\n",
    "        x = transformer_encoder(x,\n",
    "                                hp.Int('head_size', min_value=8, max_value=256, step=32),\n",
    "                                hp.Int('num_heads', min_value=2, max_value=16),\n",
    "                                hp.Int('ff_dim', min_value=4, max_value=64),\n",
    "                                hp.Float(f'dropout_{i}', min_value=0.1, max_value=0.6))\n",
    "\n",
    "    x = layers.GlobalAveragePooling1D(data_format=\"channels_first\")(x)\n",
    "\n",
    "    for i in range(hp.Int('num_mlp_layers', min_value=1, max_value=3)):\n",
    "        x = layers.Dense(hp.Int(f'mlp_units_{i}', min_value=32, max_value=256, step=32))(x)\n",
    "        x = layers.Activation('relu')(x)\n",
    "        x = layers.Dropout(hp.Float(f'mlp_dropout_{i}', min_value=0.1, max_value=0.6))(x)\n",
    "\n",
    "    outputs = layers.Dense(1)(x)\n",
    "    model = keras.Model(inputs, outputs)\n",
    "\n",
    "    optimizer = hp.Choice('optimizer', values=['adam', 'adamax'])\n",
    "    learning_rate = hp.Float('learning_rate', min_value=1e-4, max_value=1e-2)\n",
    "\n",
    "    if optimizer == 'adam':\n",
    "        opt = Adam(learning_rate=learning_rate)\n",
    "    else:\n",
    "        opt = Adamax(learning_rate=learning_rate, beta_1=0.9, beta_2=0.999)\n",
    "\n",
    "    model.compile(optimizer=opt, loss=MeanSquaredError(), metrics=['mae', RootMeanSquaredError()])\n",
    "\n",
    "    return model"
   ]
  },
  {
   "cell_type": "code",
   "execution_count": 46,
   "id": "8aee983a-36f0-4441-8f2d-a116c16415e6",
   "metadata": {},
   "outputs": [],
   "source": [
    "input_shape = X.shape[1:]\n",
    "\n",
    "best_model_hyperparameters = None\n",
    "best_model_mae = float('inf')\n",
    "\n",
    "worst_model_hyperparameters = None\n",
    "worst_model_mae = float('-inf')\n",
    "\n",
    "outer_cv = KFold(n_splits=5, shuffle=True, random_state=42)\n",
    "nested_scores = []\n",
    "     "
   ]
  },
  {
   "cell_type": "code",
   "execution_count": 2,
   "id": "6e3f9aa2-5a7f-417b-889b-2b60b845d59b",
   "metadata": {},
   "outputs": [
    {
     "ename": "NameError",
     "evalue": "name 'outer_cv' is not defined",
     "output_type": "error",
     "traceback": [
      "\u001b[0;31m---------------------------------------------------------------------------\u001b[0m",
      "\u001b[0;31mNameError\u001b[0m                                 Traceback (most recent call last)",
      "Cell \u001b[0;32mIn[2], line 1\u001b[0m\n\u001b[0;32m----> 1\u001b[0m \u001b[38;5;28;01mfor\u001b[39;00m fold_outer_idx, (train_ix, test_ix) \u001b[38;5;129;01min\u001b[39;00m \u001b[38;5;28menumerate\u001b[39m(outer_cv\u001b[38;5;241m.\u001b[39msplit(X)):\n\u001b[1;32m      2\u001b[0m     X_train_outer, X_test_outer \u001b[38;5;241m=\u001b[39m X[train_ix], X[test_ix]\n\u001b[1;32m      3\u001b[0m     y_train_outer, y_test_outer \u001b[38;5;241m=\u001b[39m y[train_ix], y[test_ix]\n",
      "\u001b[0;31mNameError\u001b[0m: name 'outer_cv' is not defined"
     ]
    }
   ],
   "source": [
    "for fold_outer_idx, (train_ix, test_ix) in enumerate(outer_cv.split(X)):\n",
    "    X_train_outer, X_test_outer = X[train_ix], X[test_ix]\n",
    "    y_train_outer, y_test_outer = y[train_ix], y[test_ix]\n",
    "\n",
    "    inner_cv = KFold(n_splits=3, shuffle=True, random_state=42)\n",
    "\n",
    "    for fold_idx, (train_ix_inner, val_ix) in enumerate(inner_cv.split(X_train_outer)):\n",
    "        X_train_inner, X_val = X_train_outer[train_ix_inner], X_train_outer[val_ix]\n",
    "        y_train_inner, y_val = y_train_outer[train_ix_inner], y_train_outer[val_ix]\n",
    "\n",
    "        tuner = kt.RandomSearch(\n",
    "            build_model,\n",
    "            objective='val_loss',\n",
    "            max_trials=15,\n",
    "            directory=f'/content/drive/MyDrive/research/keras_tuner_random_dir_fold_stock_{fold_outer_idx}_{fold_idx}',\n",
    "            project_name=f'/content/drive/MyDrive/research/hyperparameter_random_tuning_fold_stock_{fold_outer_idx}_{fold_idx}'\n",
    "        )\n",
    "\n",
    "        tuner.search(X_train_inner, y_train_inner, validation_data=(X_val, y_val), epochs=30)\n",
    "\n",
    "        best_hps = tuner.oracle.get_best_trials(1)[0].hyperparameters\n",
    "        print(f\"Best hyperparameters for fold {fold_idx}: {best_hps}\")\n",
    "\n",
    "        model = build_model(best_hps)\n",
    "        es = [keras.callbacks.EarlyStopping(patience=10, restore_best_weights=True)]\n",
    "\n",
    "        model.fit(X_train_inner, y_train_inner, validation_data=(X_val, y_val), epochs=100, batch_size=32, callbacks=[es])\n",
    "\n",
    "        y_pred = model.predict(X_val)\n",
    "        mae = mean_squared_error(y_val, y_pred)\n",
    "\n",
    "        if mae < best_model_mae:\n",
    "            best_model_mae = mae\n",
    "            best_model_hyperparameters = best_hps\n",
    "            best_model = model\n",
    "\n",
    "        if mae > worst_model_mae:\n",
    "            worst_model_mae = mae\n",
    "            worst_model_hyperparameters = best_hps\n",
    "            worst_model = model\n",
    "\n",
    "    start_time = time.time()\n",
    "    y_pred_best = best_model.predict(X_test_outer)\n",
    "    y_pred_worst = worst_model.predict(X_test_outer)\n",
    "    end_time = time.time()\n",
    "\n",
    "    mse_best = mean_squared_error(y_test_outer, y_pred_best)\n",
    "    mae_best = mean_absolute_error(y_test_outer, y_pred_best)\n",
    "    rmse_best = np.sqrt(mse_best)\n",
    "\n",
    "    nse_best = he.evaluator(he.nse, y_pred_best, y_test_outer)\n",
    "    kge_best, r, alpha, beta = he.evaluator(he.kge, y_pred_best, y_test_outer)\n",
    "    print(\"Best Model:\")\n",
    "    print(\"KGE : \", kge_best)\n",
    "\n",
    "    r2_best = r2_score(y_test_outer, y_pred_best)\n",
    "    time_duration = end_time - start_time\n",
    "\n",
    "    mse_worst = mean_squared_error(y_test_outer, y_pred_worst)\n",
    "    mae_worst = mean_absolute_error(y_test_outer, y_pred_worst)\n",
    "    rmse_worst = np.sqrt(mse_worst)\n",
    "\n",
    "    nse_worst = he.evaluator(he.nse, y_pred_worst, y_test_outer)\n",
    "    kge_worst, r, alpha, beta = he.evaluator(he.kge, y_pred_worst, y_test_outer)\n",
    "    print(\"Worst Model:\")\n",
    "    print(\"KGE : \", kge_worst)\n",
    "\n",
    "    r2_worst = r2_score(y_test_outer, y_pred_worst)\n",
    "\n",
    "    print(f\"Fold {fold_outer_idx} - Best Model MSE: {mse_best}, R2: {r2_best}\")\n",
    "    print(f\"Fold {fold_outer_idx} - Worst Model MSE: {mse_worst}, R2: {r2_worst}\")\n",
    "\n",
    "    nested_scores.append({\n",
    "        'fold': fold_outer_idx,\n",
    "        'best_mse': mse_best,\n",
    "        'best_mae': mae_best,\n",
    "        'best_rmse': rmse_best,\n",
    "        'best_nse': nse_best,\n",
    "        'best_kge': kge_best,\n",
    "        'best_r2': r2_best,\n",
    "        'best_hyperparameters': best_model_hyperparameters,\n",
    "        'worst_mse': mse_worst,\n",
    "        'worst_mae': mae_worst,\n",
    "        'worst_rmse': rmse_worst,\n",
    "        'worst_nse': nse_worst,\n",
    "        'worst_kge': kge_worst,\n",
    "        'worst_r2': r2_worst,\n",
    "        'worst_hyperparameters': worst_model_hyperparameters,\n",
    "        'prediction_duration': time_duration\n",
    "    })\n"
   ]
  },
  {
   "cell_type": "code",
   "execution_count": null,
   "id": "6dc39ca0-d4e4-44e7-b35f-103e79010d07",
   "metadata": {},
   "outputs": [],
   "source": [
    "\n"
   ]
  },
  {
   "cell_type": "code",
   "execution_count": null,
   "id": "46dcd7eb-ff71-4baf-9642-9c85a6acef6a",
   "metadata": {},
   "outputs": [],
   "source": [
    "\n"
   ]
  },
  {
   "cell_type": "code",
   "execution_count": null,
   "id": "90a58a40-ab4e-4f07-8c26-80bb75e0f141",
   "metadata": {},
   "outputs": [],
   "source": []
  }
 ],
 "metadata": {
  "kernelspec": {
   "display_name": "Python 3 (ipykernel)",
   "language": "python",
   "name": "python3"
  },
  "language_info": {
   "codemirror_mode": {
    "name": "ipython",
    "version": 3
   },
   "file_extension": ".py",
   "mimetype": "text/x-python",
   "name": "python",
   "nbconvert_exporter": "python",
   "pygments_lexer": "ipython3",
   "version": "3.11.5"
  }
 },
 "nbformat": 4,
 "nbformat_minor": 5
}

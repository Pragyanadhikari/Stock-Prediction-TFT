{
 "cells": [
  {
   "cell_type": "markdown",
   "id": "c2c38a45",
   "metadata": {},
   "source": [
    "# Loading Dataset"
   ]
  },
  {
   "cell_type": "code",
   "execution_count": 2,
   "id": "a8dc5f53",
   "metadata": {},
   "outputs": [
    {
     "data": {
      "text/html": [
       "<div>\n",
       "<style scoped>\n",
       "    .dataframe tbody tr th:only-of-type {\n",
       "        vertical-align: middle;\n",
       "    }\n",
       "\n",
       "    .dataframe tbody tr th {\n",
       "        vertical-align: top;\n",
       "    }\n",
       "\n",
       "    .dataframe thead th {\n",
       "        text-align: right;\n",
       "    }\n",
       "</style>\n",
       "<table border=\"1\" class=\"dataframe\">\n",
       "  <thead>\n",
       "    <tr style=\"text-align: right;\">\n",
       "      <th></th>\n",
       "      <th>S.N.</th>\n",
       "      <th>Date</th>\n",
       "      <th>Open</th>\n",
       "      <th>High</th>\n",
       "      <th>Low</th>\n",
       "      <th>Ltp</th>\n",
       "      <th>% Change</th>\n",
       "      <th>Qty</th>\n",
       "      <th>Turnover</th>\n",
       "    </tr>\n",
       "  </thead>\n",
       "  <tbody>\n",
       "    <tr>\n",
       "      <th>0</th>\n",
       "      <td>1</td>\n",
       "      <td>15/05/2024</td>\n",
       "      <td>675</td>\n",
       "      <td>682.9</td>\n",
       "      <td>660.1</td>\n",
       "      <td>660.1</td>\n",
       "      <td>-1.62</td>\n",
       "      <td>15,761.00</td>\n",
       "      <td>1,06,01,118.70</td>\n",
       "    </tr>\n",
       "    <tr>\n",
       "      <th>1</th>\n",
       "      <td>2</td>\n",
       "      <td>14/05/2024</td>\n",
       "      <td>655</td>\n",
       "      <td>674.9</td>\n",
       "      <td>655</td>\n",
       "      <td>671</td>\n",
       "      <td>3.07</td>\n",
       "      <td>18,718.00</td>\n",
       "      <td>1,25,18,869.30</td>\n",
       "    </tr>\n",
       "    <tr>\n",
       "      <th>2</th>\n",
       "      <td>3</td>\n",
       "      <td>13/05/2024</td>\n",
       "      <td>650</td>\n",
       "      <td>658</td>\n",
       "      <td>645</td>\n",
       "      <td>651</td>\n",
       "      <td>0.11</td>\n",
       "      <td>5,463.00</td>\n",
       "      <td>35,48,046.70</td>\n",
       "    </tr>\n",
       "    <tr>\n",
       "      <th>3</th>\n",
       "      <td>4</td>\n",
       "      <td>12/05/2024</td>\n",
       "      <td>670</td>\n",
       "      <td>670</td>\n",
       "      <td>650.3</td>\n",
       "      <td>650.3</td>\n",
       "      <td>-2.94</td>\n",
       "      <td>6,884.00</td>\n",
       "      <td>45,11,826.40</td>\n",
       "    </tr>\n",
       "    <tr>\n",
       "      <th>4</th>\n",
       "      <td>5</td>\n",
       "      <td>09/05/2024</td>\n",
       "      <td>683</td>\n",
       "      <td>689.6</td>\n",
       "      <td>662.6</td>\n",
       "      <td>670</td>\n",
       "      <td>-0.89</td>\n",
       "      <td>14,540.00</td>\n",
       "      <td>97,68,167.80</td>\n",
       "    </tr>\n",
       "  </tbody>\n",
       "</table>\n",
       "</div>"
      ],
      "text/plain": [
       "   S.N.        Date Open   High    Low    Ltp  % Change        Qty  \\\n",
       "0     1  15/05/2024  675  682.9  660.1  660.1     -1.62  15,761.00   \n",
       "1     2  14/05/2024  655  674.9    655    671      3.07  18,718.00   \n",
       "2     3  13/05/2024  650    658    645    651      0.11   5,463.00   \n",
       "3     4  12/05/2024  670    670  650.3  650.3     -2.94   6,884.00   \n",
       "4     5  09/05/2024  683  689.6  662.6    670     -0.89  14,540.00   \n",
       "\n",
       "         Turnover  \n",
       "0  1,06,01,118.70  \n",
       "1  1,25,18,869.30  \n",
       "2    35,48,046.70  \n",
       "3    45,11,826.40  \n",
       "4    97,68,167.80  "
      ]
     },
     "execution_count": 2,
     "metadata": {},
     "output_type": "execute_result"
    }
   ],
   "source": [
    "import pandas as pd\n",
    "filepath='./NULBdata.csv'\n",
    "data=pd.read_csv(filepath)\n",
    "\n",
    "data.head()"
   ]
  },
  {
   "cell_type": "code",
   "execution_count": 4,
   "id": "f18fd105",
   "metadata": {},
   "outputs": [],
   "source": [
    "#Defining max encoder length and max prediction length\n",
    "#max_encoder_length is amount of recent past data that model uses to predict the future value(in our case 75)\n",
    "#max_prediction_length is the amount of future data that model predicts(in our case 15 )\n",
    "max_encoder_length = 75 \n",
    "max_prediction_length = 15\n"
   ]
  },
  {
   "cell_type": "code",
   "execution_count": 12,
   "id": "3157eaf5",
   "metadata": {},
   "outputs": [],
   "source": [
    "data['Date'] = pd.to_datetime(data['Date'])"
   ]
  },
  {
   "cell_type": "code",
   "execution_count": 10,
   "id": "a0d93c87-cb8a-43c1-aaec-ec42f00643c6",
   "metadata": {},
   "outputs": [],
   "source": [
    "dayfirrst=True"
   ]
  },
  {
   "cell_type": "code",
   "execution_count": 24,
   "id": "72759562-43a8-43d7-abec-3a0215ef9e68",
   "metadata": {},
   "outputs": [
    {
     "ename": "ModuleNotFoundError",
     "evalue": "No module named 'pytorch_lightning.core.lightning'",
     "output_type": "error",
     "traceback": [
      "\u001b[0;31m---------------------------------------------------------------------------\u001b[0m",
      "\u001b[0;31mModuleNotFoundError\u001b[0m                       Traceback (most recent call last)",
      "Cell \u001b[0;32mIn[24], line 2\u001b[0m\n\u001b[1;32m      1\u001b[0m \u001b[38;5;66;03m#Creating a time series Dataset\u001b[39;00m\n\u001b[0;32m----> 2\u001b[0m \u001b[38;5;28;01mfrom\u001b[39;00m \u001b[38;5;21;01mpytorch_forecasting\u001b[39;00m \u001b[38;5;28;01mimport\u001b[39;00m TimeSeriesDataSet, GroupNormalizer\n",
      "File \u001b[0;32m/Applications/anaconda3/lib/python3.11/site-packages/pytorch_forecasting/__init__.py:31\u001b[0m\n\u001b[1;32m      4\u001b[0m \u001b[38;5;28;01mfrom\u001b[39;00m \u001b[38;5;21;01mpytorch_forecasting\u001b[39;00m\u001b[38;5;21;01m.\u001b[39;00m\u001b[38;5;21;01mdata\u001b[39;00m \u001b[38;5;28;01mimport\u001b[39;00m (\n\u001b[1;32m      5\u001b[0m     EncoderNormalizer,\n\u001b[1;32m      6\u001b[0m     GroupNormalizer,\n\u001b[0;32m   (...)\u001b[0m\n\u001b[1;32m      9\u001b[0m     TimeSeriesDataSet,\n\u001b[1;32m     10\u001b[0m )\n\u001b[1;32m     11\u001b[0m \u001b[38;5;28;01mfrom\u001b[39;00m \u001b[38;5;21;01mpytorch_forecasting\u001b[39;00m\u001b[38;5;21;01m.\u001b[39;00m\u001b[38;5;21;01mmetrics\u001b[39;00m \u001b[38;5;28;01mimport\u001b[39;00m (\n\u001b[1;32m     12\u001b[0m     MAE,\n\u001b[1;32m     13\u001b[0m     MAPE,\n\u001b[0;32m   (...)\u001b[0m\n\u001b[1;32m     29\u001b[0m     QuantileLoss,\n\u001b[1;32m     30\u001b[0m )\n\u001b[0;32m---> 31\u001b[0m \u001b[38;5;28;01mfrom\u001b[39;00m \u001b[38;5;21;01mpytorch_forecasting\u001b[39;00m\u001b[38;5;21;01m.\u001b[39;00m\u001b[38;5;21;01mmodels\u001b[39;00m \u001b[38;5;28;01mimport\u001b[39;00m (\n\u001b[1;32m     32\u001b[0m     GRU,\n\u001b[1;32m     33\u001b[0m     LSTM,\n\u001b[1;32m     34\u001b[0m     AutoRegressiveBaseModel,\n\u001b[1;32m     35\u001b[0m     AutoRegressiveBaseModelWithCovariates,\n\u001b[1;32m     36\u001b[0m     Baseline,\n\u001b[1;32m     37\u001b[0m     BaseModel,\n\u001b[1;32m     38\u001b[0m     BaseModelWithCovariates,\n\u001b[1;32m     39\u001b[0m     DecoderMLP,\n\u001b[1;32m     40\u001b[0m     DeepAR,\n\u001b[1;32m     41\u001b[0m     MultiEmbedding,\n\u001b[1;32m     42\u001b[0m     NBeats,\n\u001b[1;32m     43\u001b[0m     NHiTS,\n\u001b[1;32m     44\u001b[0m     RecurrentNetwork,\n\u001b[1;32m     45\u001b[0m     TemporalFusionTransformer,\n\u001b[1;32m     46\u001b[0m     get_rnn,\n\u001b[1;32m     47\u001b[0m )\n\u001b[1;32m     48\u001b[0m \u001b[38;5;28;01mfrom\u001b[39;00m \u001b[38;5;21;01mpytorch_forecasting\u001b[39;00m\u001b[38;5;21;01m.\u001b[39;00m\u001b[38;5;21;01mutils\u001b[39;00m \u001b[38;5;28;01mimport\u001b[39;00m (\n\u001b[1;32m     49\u001b[0m     apply_to_list,\n\u001b[1;32m     50\u001b[0m     autocorrelation,\n\u001b[0;32m   (...)\u001b[0m\n\u001b[1;32m     59\u001b[0m     unpack_sequence,\n\u001b[1;32m     60\u001b[0m )\n\u001b[1;32m     62\u001b[0m __all__ \u001b[38;5;241m=\u001b[39m [\n\u001b[1;32m     63\u001b[0m     \u001b[38;5;124m\"\u001b[39m\u001b[38;5;124mTimeSeriesDataSet\u001b[39m\u001b[38;5;124m\"\u001b[39m,\n\u001b[1;32m     64\u001b[0m     \u001b[38;5;124m\"\u001b[39m\u001b[38;5;124mGroupNormalizer\u001b[39m\u001b[38;5;124m\"\u001b[39m,\n\u001b[0;32m   (...)\u001b[0m\n\u001b[1;32m    111\u001b[0m     \u001b[38;5;124m\"\u001b[39m\u001b[38;5;124munpack_sequence\u001b[39m\u001b[38;5;124m\"\u001b[39m,\n\u001b[1;32m    112\u001b[0m ]\n",
      "File \u001b[0;32m/Applications/anaconda3/lib/python3.11/site-packages/pytorch_forecasting/models/__init__.py:11\u001b[0m\n\u001b[1;32m      4\u001b[0m \u001b[38;5;28;01mfrom\u001b[39;00m \u001b[38;5;21;01mpytorch_forecasting\u001b[39;00m\u001b[38;5;21;01m.\u001b[39;00m\u001b[38;5;21;01mmodels\u001b[39;00m\u001b[38;5;21;01m.\u001b[39;00m\u001b[38;5;21;01mbase_model\u001b[39;00m \u001b[38;5;28;01mimport\u001b[39;00m (\n\u001b[1;32m      5\u001b[0m     AutoRegressiveBaseModel,\n\u001b[1;32m      6\u001b[0m     AutoRegressiveBaseModelWithCovariates,\n\u001b[1;32m      7\u001b[0m     BaseModel,\n\u001b[1;32m      8\u001b[0m     BaseModelWithCovariates,\n\u001b[1;32m      9\u001b[0m )\n\u001b[1;32m     10\u001b[0m \u001b[38;5;28;01mfrom\u001b[39;00m \u001b[38;5;21;01mpytorch_forecasting\u001b[39;00m\u001b[38;5;21;01m.\u001b[39;00m\u001b[38;5;21;01mmodels\u001b[39;00m\u001b[38;5;21;01m.\u001b[39;00m\u001b[38;5;21;01mbaseline\u001b[39;00m \u001b[38;5;28;01mimport\u001b[39;00m Baseline\n\u001b[0;32m---> 11\u001b[0m \u001b[38;5;28;01mfrom\u001b[39;00m \u001b[38;5;21;01mpytorch_forecasting\u001b[39;00m\u001b[38;5;21;01m.\u001b[39;00m\u001b[38;5;21;01mmodels\u001b[39;00m\u001b[38;5;21;01m.\u001b[39;00m\u001b[38;5;21;01mdeepar\u001b[39;00m \u001b[38;5;28;01mimport\u001b[39;00m DeepAR\n\u001b[1;32m     12\u001b[0m \u001b[38;5;28;01mfrom\u001b[39;00m \u001b[38;5;21;01mpytorch_forecasting\u001b[39;00m\u001b[38;5;21;01m.\u001b[39;00m\u001b[38;5;21;01mmodels\u001b[39;00m\u001b[38;5;21;01m.\u001b[39;00m\u001b[38;5;21;01mmlp\u001b[39;00m \u001b[38;5;28;01mimport\u001b[39;00m DecoderMLP\n\u001b[1;32m     13\u001b[0m \u001b[38;5;28;01mfrom\u001b[39;00m \u001b[38;5;21;01mpytorch_forecasting\u001b[39;00m\u001b[38;5;21;01m.\u001b[39;00m\u001b[38;5;21;01mmodels\u001b[39;00m\u001b[38;5;21;01m.\u001b[39;00m\u001b[38;5;21;01mnbeats\u001b[39;00m \u001b[38;5;28;01mimport\u001b[39;00m NBeats\n",
      "File \u001b[0;32m/Applications/anaconda3/lib/python3.11/site-packages/pytorch_forecasting/models/deepar/__init__.py:13\u001b[0m\n\u001b[1;32m     11\u001b[0m \u001b[38;5;28;01mimport\u001b[39;00m \u001b[38;5;21;01mnumpy\u001b[39;00m \u001b[38;5;28;01mas\u001b[39;00m \u001b[38;5;21;01mnp\u001b[39;00m\n\u001b[1;32m     12\u001b[0m \u001b[38;5;28;01mimport\u001b[39;00m \u001b[38;5;21;01mpandas\u001b[39;00m \u001b[38;5;28;01mas\u001b[39;00m \u001b[38;5;21;01mpd\u001b[39;00m\n\u001b[0;32m---> 13\u001b[0m \u001b[38;5;28;01mfrom\u001b[39;00m \u001b[38;5;21;01mpytorch_lightning\u001b[39;00m\u001b[38;5;21;01m.\u001b[39;00m\u001b[38;5;21;01mcore\u001b[39;00m\u001b[38;5;21;01m.\u001b[39;00m\u001b[38;5;21;01mlightning\u001b[39;00m \u001b[38;5;28;01mimport\u001b[39;00m LightningModule\n\u001b[1;32m     14\u001b[0m \u001b[38;5;28;01mimport\u001b[39;00m \u001b[38;5;21;01mtorch\u001b[39;00m\n\u001b[1;32m     15\u001b[0m \u001b[38;5;28;01mimport\u001b[39;00m \u001b[38;5;21;01mtorch\u001b[39;00m\u001b[38;5;21;01m.\u001b[39;00m\u001b[38;5;21;01mdistributions\u001b[39;00m \u001b[38;5;28;01mas\u001b[39;00m \u001b[38;5;21;01mdists\u001b[39;00m\n",
      "\u001b[0;31mModuleNotFoundError\u001b[0m: No module named 'pytorch_lightning.core.lightning'"
     ]
    }
   ],
   "source": [
    "#Creating a time series Dataset\n",
    "from pytorch_forecasting import TimeSeriesDataSet, GroupNormalizer"
   ]
  },
  {
   "cell_type": "code",
   "execution_count": null,
   "id": "4f43d33c-50d3-4182-a73d-5146de6746b0",
   "metadata": {},
   "outputs": [],
   "source": [
    "dataset = TimeSeriesDataSet(\n",
    "    data,\n",
    "    time_idx=\"Date\",\n",
    "    target=\"Ltp\",  # Last traded price as the target variable\n",
    "    group_ids=[\"S.N.\"],  # Assuming 'sn' can be used as a unique identifier for the stock\n",
    "    min_encoder_length=max_encoder_length,\n",
    "    max_encoder_length=max_encoder_length,\n",
    "    min_prediction_length=max_prediction_length,\n",
    "    max_prediction_length=max_prediction_length,\n",
    "    static_categoricals=[\"S.N.\"],  # Add static categorical features if any\n",
    "    time_varying_known_categoricals=[],\n",
    "    time_varying_known_reals=[\"Open\", \"High\", \"Low\", \"Qty\", \"Turnover\"],  # Add known real features\n",
    "    time_varying_unknown_categoricals=[],\n",
    "    time_varying_unknown_reals=[\"Ltp\"],  # Target variable\n",
    "    target_normalizer=GroupNormalizer(groups=[\"S.N.\"], transformation=\"softplus\"),\n",
    "    add_relative_time_idx=True,\n",
    "    add_target_scales=True,\n",
    "    add_encoder_length=True,\n",
    ")\n"
   ]
  },
  {
   "cell_type": "code",
   "execution_count": null,
   "id": "3b96d03b-71d2-4501-84f4-4afe8319beff",
   "metadata": {},
   "outputs": [],
   "source": []
  }
 ],
 "metadata": {
  "kernelspec": {
   "display_name": "Python 3 (ipykernel)",
   "language": "python",
   "name": "python3"
  },
  "language_info": {
   "codemirror_mode": {
    "name": "ipython",
    "version": 3
   },
   "file_extension": ".py",
   "mimetype": "text/x-python",
   "name": "python",
   "nbconvert_exporter": "python",
   "pygments_lexer": "ipython3",
   "version": "3.11.5"
  }
 },
 "nbformat": 4,
 "nbformat_minor": 5
}

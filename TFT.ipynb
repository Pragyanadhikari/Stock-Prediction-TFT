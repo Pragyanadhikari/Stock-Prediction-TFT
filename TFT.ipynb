{
 "cells": [
  {
   "cell_type": "markdown",
   "id": "c2c38a45",
   "metadata": {},
   "source": [
    "# Loading Dataset"
   ]
  },
  {
   "cell_type": "code",
   "execution_count": 1,
   "id": "a8dc5f53",
   "metadata": {},
   "outputs": [
    {
     "data": {
      "text/html": [
       "<div>\n",
       "<style scoped>\n",
       "    .dataframe tbody tr th:only-of-type {\n",
       "        vertical-align: middle;\n",
       "    }\n",
       "\n",
       "    .dataframe tbody tr th {\n",
       "        vertical-align: top;\n",
       "    }\n",
       "\n",
       "    .dataframe thead th {\n",
       "        text-align: right;\n",
       "    }\n",
       "</style>\n",
       "<table border=\"1\" class=\"dataframe\">\n",
       "  <thead>\n",
       "    <tr style=\"text-align: right;\">\n",
       "      <th></th>\n",
       "      <th>S.N.</th>\n",
       "      <th>Date</th>\n",
       "      <th>Open</th>\n",
       "      <th>High</th>\n",
       "      <th>Low</th>\n",
       "      <th>Ltp</th>\n",
       "      <th>% Change</th>\n",
       "      <th>Qty</th>\n",
       "      <th>Turnover</th>\n",
       "    </tr>\n",
       "  </thead>\n",
       "  <tbody>\n",
       "    <tr>\n",
       "      <th>0</th>\n",
       "      <td>1</td>\n",
       "      <td>15/05/2024</td>\n",
       "      <td>675</td>\n",
       "      <td>682.9</td>\n",
       "      <td>660.1</td>\n",
       "      <td>660.1</td>\n",
       "      <td>-1.62</td>\n",
       "      <td>15,761.00</td>\n",
       "      <td>1,06,01,118.70</td>\n",
       "    </tr>\n",
       "    <tr>\n",
       "      <th>1</th>\n",
       "      <td>2</td>\n",
       "      <td>14/05/2024</td>\n",
       "      <td>655</td>\n",
       "      <td>674.9</td>\n",
       "      <td>655</td>\n",
       "      <td>671</td>\n",
       "      <td>3.07</td>\n",
       "      <td>18,718.00</td>\n",
       "      <td>1,25,18,869.30</td>\n",
       "    </tr>\n",
       "    <tr>\n",
       "      <th>2</th>\n",
       "      <td>3</td>\n",
       "      <td>13/05/2024</td>\n",
       "      <td>650</td>\n",
       "      <td>658</td>\n",
       "      <td>645</td>\n",
       "      <td>651</td>\n",
       "      <td>0.11</td>\n",
       "      <td>5,463.00</td>\n",
       "      <td>35,48,046.70</td>\n",
       "    </tr>\n",
       "    <tr>\n",
       "      <th>3</th>\n",
       "      <td>4</td>\n",
       "      <td>12/05/2024</td>\n",
       "      <td>670</td>\n",
       "      <td>670</td>\n",
       "      <td>650.3</td>\n",
       "      <td>650.3</td>\n",
       "      <td>-2.94</td>\n",
       "      <td>6,884.00</td>\n",
       "      <td>45,11,826.40</td>\n",
       "    </tr>\n",
       "    <tr>\n",
       "      <th>4</th>\n",
       "      <td>5</td>\n",
       "      <td>09/05/2024</td>\n",
       "      <td>683</td>\n",
       "      <td>689.6</td>\n",
       "      <td>662.6</td>\n",
       "      <td>670</td>\n",
       "      <td>-0.89</td>\n",
       "      <td>14,540.00</td>\n",
       "      <td>97,68,167.80</td>\n",
       "    </tr>\n",
       "  </tbody>\n",
       "</table>\n",
       "</div>"
      ],
      "text/plain": [
       "   S.N.        Date Open   High    Low    Ltp  % Change        Qty  \\\n",
       "0     1  15/05/2024  675  682.9  660.1  660.1     -1.62  15,761.00   \n",
       "1     2  14/05/2024  655  674.9    655    671      3.07  18,718.00   \n",
       "2     3  13/05/2024  650    658    645    651      0.11   5,463.00   \n",
       "3     4  12/05/2024  670    670  650.3  650.3     -2.94   6,884.00   \n",
       "4     5  09/05/2024  683  689.6  662.6    670     -0.89  14,540.00   \n",
       "\n",
       "         Turnover  \n",
       "0  1,06,01,118.70  \n",
       "1  1,25,18,869.30  \n",
       "2    35,48,046.70  \n",
       "3    45,11,826.40  \n",
       "4    97,68,167.80  "
      ]
     },
     "execution_count": 1,
     "metadata": {},
     "output_type": "execute_result"
    }
   ],
   "source": [
    "import pandas as pd\n",
    "filepath='./NULBdata.csv'\n",
    "data=pd.read_csv(filepath)\n",
    "\n",
    "data.head()"
   ]
  },
  {
   "cell_type": "code",
   "execution_count": 3,
   "id": "f18fd105",
   "metadata": {},
   "outputs": [],
   "source": [
    "#Defining max encoder length and max prediction length\n",
    "#max_encoder_length is amount of recent past data that model uses to predict the future value(in our case 75)\n",
    "#max_prediction_length is the amount of future data that model predicts(in our case 15 )\n",
    "max_encoder_length = 75 \n",
    "max_prediction_length = 15\n"
   ]
  },
  {
   "cell_type": "code",
   "execution_count": null,
   "id": "3157eaf5",
   "metadata": {},
   "outputs": [],
   "source": []
  }
 ],
 "metadata": {
  "kernelspec": {
   "display_name": "Python 3 (ipykernel)",
   "language": "python",
   "name": "python3"
  },
  "language_info": {
   "codemirror_mode": {
    "name": "ipython",
    "version": 3
   },
   "file_extension": ".py",
   "mimetype": "text/x-python",
   "name": "python",
   "nbconvert_exporter": "python",
   "pygments_lexer": "ipython3",
   "version": "3.11.5"
  }
 },
 "nbformat": 4,
 "nbformat_minor": 5
}
